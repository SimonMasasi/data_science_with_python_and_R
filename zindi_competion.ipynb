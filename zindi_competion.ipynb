{
 "cells": [
  {
   "cell_type": "code",
   "execution_count": 49,
   "metadata": {
    "vscode": {
     "languageId": "r"
    }
   },
   "outputs": [],
   "source": [
    "library(tidyverse)"
   ]
  },
  {
   "cell_type": "code",
   "execution_count": 50,
   "metadata": {
    "vscode": {
     "languageId": "r"
    }
   },
   "outputs": [
    {
     "name": "stderr",
     "output_type": "stream",
     "text": [
      "The following objects are masked from df (pos = 3):\n",
      "\n",
      "    age_of_respondent, bank_account, cellphone_access, country,\n",
      "    education_level, gender_of_respondent, household_size, job_type,\n",
      "    location_type, marital_status, relationship_with_head, uniqueid,\n",
      "    year\n",
      "\n",
      "\n",
      "The following objects are masked from df (pos = 4):\n",
      "\n",
      "    age_of_respondent, bank_account, cellphone_access, country,\n",
      "    education_level, gender_of_respondent, household_size, job_type,\n",
      "    location_type, marital_status, relationship_with_head, uniqueid,\n",
      "    year\n",
      "\n",
      "\n",
      "The following objects are masked from df (pos = 5):\n",
      "\n",
      "    age_of_respondent, bank_account, cellphone_access, country,\n",
      "    education_level, gender_of_respondent, household_size, job_type,\n",
      "    location_type, marital_status, relationship_with_head, uniqueid,\n",
      "    year\n",
      "\n",
      "\n"
     ]
    }
   ],
   "source": [
    "df = read.csv(\"Train.csv\")\n",
    "attach(df)"
   ]
  },
  {
   "cell_type": "code",
   "execution_count": 201,
   "metadata": {
    "vscode": {
     "languageId": "r"
    }
   },
   "outputs": [
    {
     "data": {
      "text/html": [
       "23524"
      ],
      "text/latex": [
       "23524"
      ],
      "text/markdown": [
       "23524"
      ],
      "text/plain": [
       "[1] 23524"
      ]
     },
     "metadata": {},
     "output_type": "display_data"
    }
   ],
   "source": [
    "nrow(df)"
   ]
  },
  {
   "cell_type": "code",
   "execution_count": 51,
   "metadata": {
    "vscode": {
     "languageId": "r"
    }
   },
   "outputs": [
    {
     "data": {
      "text/html": [
       "<table class=\"dataframe\">\n",
       "<caption>A data.frame: 6 × 13</caption>\n",
       "<thead>\n",
       "\t<tr><th></th><th scope=col>country</th><th scope=col>year</th><th scope=col>uniqueid</th><th scope=col>bank_account</th><th scope=col>location_type</th><th scope=col>cellphone_access</th><th scope=col>household_size</th><th scope=col>age_of_respondent</th><th scope=col>gender_of_respondent</th><th scope=col>relationship_with_head</th><th scope=col>marital_status</th><th scope=col>education_level</th><th scope=col>job_type</th></tr>\n",
       "\t<tr><th></th><th scope=col>&lt;chr&gt;</th><th scope=col>&lt;int&gt;</th><th scope=col>&lt;chr&gt;</th><th scope=col>&lt;chr&gt;</th><th scope=col>&lt;chr&gt;</th><th scope=col>&lt;chr&gt;</th><th scope=col>&lt;int&gt;</th><th scope=col>&lt;int&gt;</th><th scope=col>&lt;chr&gt;</th><th scope=col>&lt;chr&gt;</th><th scope=col>&lt;chr&gt;</th><th scope=col>&lt;chr&gt;</th><th scope=col>&lt;chr&gt;</th></tr>\n",
       "</thead>\n",
       "<tbody>\n",
       "\t<tr><th scope=row>1</th><td>Kenya</td><td>2018</td><td>uniqueid_1</td><td>Yes</td><td>Rural</td><td>Yes</td><td>3</td><td>24</td><td>Female</td><td>Spouse           </td><td>Married/Living together</td><td>Secondary education            </td><td>Self employed            </td></tr>\n",
       "\t<tr><th scope=row>2</th><td>Kenya</td><td>2018</td><td>uniqueid_2</td><td>No </td><td>Rural</td><td>No </td><td>5</td><td>70</td><td>Female</td><td>Head of Household</td><td>Widowed                </td><td>No formal education            </td><td>Government Dependent     </td></tr>\n",
       "\t<tr><th scope=row>3</th><td>Kenya</td><td>2018</td><td>uniqueid_3</td><td>Yes</td><td>Urban</td><td>Yes</td><td>5</td><td>26</td><td>Male  </td><td>Other relative   </td><td>Single/Never Married   </td><td>Vocational/Specialised training</td><td>Self employed            </td></tr>\n",
       "\t<tr><th scope=row>4</th><td>Kenya</td><td>2018</td><td>uniqueid_4</td><td>No </td><td>Rural</td><td>Yes</td><td>5</td><td>34</td><td>Female</td><td>Head of Household</td><td>Married/Living together</td><td>Primary education              </td><td>Formally employed Private</td></tr>\n",
       "\t<tr><th scope=row>5</th><td>Kenya</td><td>2018</td><td>uniqueid_5</td><td>No </td><td>Urban</td><td>No </td><td>8</td><td>26</td><td>Male  </td><td>Child            </td><td>Single/Never Married   </td><td>Primary education              </td><td>Informally employed      </td></tr>\n",
       "\t<tr><th scope=row>6</th><td>Kenya</td><td>2018</td><td>uniqueid_6</td><td>No </td><td>Rural</td><td>No </td><td>7</td><td>26</td><td>Female</td><td>Spouse           </td><td>Married/Living together</td><td>Primary education              </td><td>Informally employed      </td></tr>\n",
       "</tbody>\n",
       "</table>\n"
      ],
      "text/latex": [
       "A data.frame: 6 × 13\n",
       "\\begin{tabular}{r|lllllllllllll}\n",
       "  & country & year & uniqueid & bank\\_account & location\\_type & cellphone\\_access & household\\_size & age\\_of\\_respondent & gender\\_of\\_respondent & relationship\\_with\\_head & marital\\_status & education\\_level & job\\_type\\\\\n",
       "  & <chr> & <int> & <chr> & <chr> & <chr> & <chr> & <int> & <int> & <chr> & <chr> & <chr> & <chr> & <chr>\\\\\n",
       "\\hline\n",
       "\t1 & Kenya & 2018 & uniqueid\\_1 & Yes & Rural & Yes & 3 & 24 & Female & Spouse            & Married/Living together & Secondary education             & Self employed            \\\\\n",
       "\t2 & Kenya & 2018 & uniqueid\\_2 & No  & Rural & No  & 5 & 70 & Female & Head of Household & Widowed                 & No formal education             & Government Dependent     \\\\\n",
       "\t3 & Kenya & 2018 & uniqueid\\_3 & Yes & Urban & Yes & 5 & 26 & Male   & Other relative    & Single/Never Married    & Vocational/Specialised training & Self employed            \\\\\n",
       "\t4 & Kenya & 2018 & uniqueid\\_4 & No  & Rural & Yes & 5 & 34 & Female & Head of Household & Married/Living together & Primary education               & Formally employed Private\\\\\n",
       "\t5 & Kenya & 2018 & uniqueid\\_5 & No  & Urban & No  & 8 & 26 & Male   & Child             & Single/Never Married    & Primary education               & Informally employed      \\\\\n",
       "\t6 & Kenya & 2018 & uniqueid\\_6 & No  & Rural & No  & 7 & 26 & Female & Spouse            & Married/Living together & Primary education               & Informally employed      \\\\\n",
       "\\end{tabular}\n"
      ],
      "text/markdown": [
       "\n",
       "A data.frame: 6 × 13\n",
       "\n",
       "| <!--/--> | country &lt;chr&gt; | year &lt;int&gt; | uniqueid &lt;chr&gt; | bank_account &lt;chr&gt; | location_type &lt;chr&gt; | cellphone_access &lt;chr&gt; | household_size &lt;int&gt; | age_of_respondent &lt;int&gt; | gender_of_respondent &lt;chr&gt; | relationship_with_head &lt;chr&gt; | marital_status &lt;chr&gt; | education_level &lt;chr&gt; | job_type &lt;chr&gt; |\n",
       "|---|---|---|---|---|---|---|---|---|---|---|---|---|---|\n",
       "| 1 | Kenya | 2018 | uniqueid_1 | Yes | Rural | Yes | 3 | 24 | Female | Spouse            | Married/Living together | Secondary education             | Self employed             |\n",
       "| 2 | Kenya | 2018 | uniqueid_2 | No  | Rural | No  | 5 | 70 | Female | Head of Household | Widowed                 | No formal education             | Government Dependent      |\n",
       "| 3 | Kenya | 2018 | uniqueid_3 | Yes | Urban | Yes | 5 | 26 | Male   | Other relative    | Single/Never Married    | Vocational/Specialised training | Self employed             |\n",
       "| 4 | Kenya | 2018 | uniqueid_4 | No  | Rural | Yes | 5 | 34 | Female | Head of Household | Married/Living together | Primary education               | Formally employed Private |\n",
       "| 5 | Kenya | 2018 | uniqueid_5 | No  | Urban | No  | 8 | 26 | Male   | Child             | Single/Never Married    | Primary education               | Informally employed       |\n",
       "| 6 | Kenya | 2018 | uniqueid_6 | No  | Rural | No  | 7 | 26 | Female | Spouse            | Married/Living together | Primary education               | Informally employed       |\n",
       "\n"
      ],
      "text/plain": [
       "  country year uniqueid   bank_account location_type cellphone_access\n",
       "1 Kenya   2018 uniqueid_1 Yes          Rural         Yes             \n",
       "2 Kenya   2018 uniqueid_2 No           Rural         No              \n",
       "3 Kenya   2018 uniqueid_3 Yes          Urban         Yes             \n",
       "4 Kenya   2018 uniqueid_4 No           Rural         Yes             \n",
       "5 Kenya   2018 uniqueid_5 No           Urban         No              \n",
       "6 Kenya   2018 uniqueid_6 No           Rural         No              \n",
       "  household_size age_of_respondent gender_of_respondent relationship_with_head\n",
       "1 3              24                Female               Spouse                \n",
       "2 5              70                Female               Head of Household     \n",
       "3 5              26                Male                 Other relative        \n",
       "4 5              34                Female               Head of Household     \n",
       "5 8              26                Male                 Child                 \n",
       "6 7              26                Female               Spouse                \n",
       "  marital_status          education_level                \n",
       "1 Married/Living together Secondary education            \n",
       "2 Widowed                 No formal education            \n",
       "3 Single/Never Married    Vocational/Specialised training\n",
       "4 Married/Living together Primary education              \n",
       "5 Single/Never Married    Primary education              \n",
       "6 Married/Living together Primary education              \n",
       "  job_type                 \n",
       "1 Self employed            \n",
       "2 Government Dependent     \n",
       "3 Self employed            \n",
       "4 Formally employed Private\n",
       "5 Informally employed      \n",
       "6 Informally employed      "
      ]
     },
     "metadata": {},
     "output_type": "display_data"
    }
   ],
   "source": [
    "head(df)"
   ]
  },
  {
   "cell_type": "code",
   "execution_count": 52,
   "metadata": {
    "vscode": {
     "languageId": "r"
    }
   },
   "outputs": [
    {
     "data": {
      "text/html": [
       "<table class=\"dataframe\">\n",
       "<caption>A data.frame: 13 × 1</caption>\n",
       "<thead>\n",
       "\t<tr><th></th><th scope=col>colSums.is.na.df..</th></tr>\n",
       "\t<tr><th></th><th scope=col>&lt;dbl&gt;</th></tr>\n",
       "</thead>\n",
       "<tbody>\n",
       "\t<tr><th scope=row>country</th><td>0</td></tr>\n",
       "\t<tr><th scope=row>year</th><td>0</td></tr>\n",
       "\t<tr><th scope=row>uniqueid</th><td>0</td></tr>\n",
       "\t<tr><th scope=row>bank_account</th><td>0</td></tr>\n",
       "\t<tr><th scope=row>location_type</th><td>0</td></tr>\n",
       "\t<tr><th scope=row>cellphone_access</th><td>0</td></tr>\n",
       "\t<tr><th scope=row>household_size</th><td>0</td></tr>\n",
       "\t<tr><th scope=row>age_of_respondent</th><td>0</td></tr>\n",
       "\t<tr><th scope=row>gender_of_respondent</th><td>0</td></tr>\n",
       "\t<tr><th scope=row>relationship_with_head</th><td>0</td></tr>\n",
       "\t<tr><th scope=row>marital_status</th><td>0</td></tr>\n",
       "\t<tr><th scope=row>education_level</th><td>0</td></tr>\n",
       "\t<tr><th scope=row>job_type</th><td>0</td></tr>\n",
       "</tbody>\n",
       "</table>\n"
      ],
      "text/latex": [
       "A data.frame: 13 × 1\n",
       "\\begin{tabular}{r|l}\n",
       "  & colSums.is.na.df..\\\\\n",
       "  & <dbl>\\\\\n",
       "\\hline\n",
       "\tcountry & 0\\\\\n",
       "\tyear & 0\\\\\n",
       "\tuniqueid & 0\\\\\n",
       "\tbank\\_account & 0\\\\\n",
       "\tlocation\\_type & 0\\\\\n",
       "\tcellphone\\_access & 0\\\\\n",
       "\thousehold\\_size & 0\\\\\n",
       "\tage\\_of\\_respondent & 0\\\\\n",
       "\tgender\\_of\\_respondent & 0\\\\\n",
       "\trelationship\\_with\\_head & 0\\\\\n",
       "\tmarital\\_status & 0\\\\\n",
       "\teducation\\_level & 0\\\\\n",
       "\tjob\\_type & 0\\\\\n",
       "\\end{tabular}\n"
      ],
      "text/markdown": [
       "\n",
       "A data.frame: 13 × 1\n",
       "\n",
       "| <!--/--> | colSums.is.na.df.. &lt;dbl&gt; |\n",
       "|---|---|\n",
       "| country | 0 |\n",
       "| year | 0 |\n",
       "| uniqueid | 0 |\n",
       "| bank_account | 0 |\n",
       "| location_type | 0 |\n",
       "| cellphone_access | 0 |\n",
       "| household_size | 0 |\n",
       "| age_of_respondent | 0 |\n",
       "| gender_of_respondent | 0 |\n",
       "| relationship_with_head | 0 |\n",
       "| marital_status | 0 |\n",
       "| education_level | 0 |\n",
       "| job_type | 0 |\n",
       "\n"
      ],
      "text/plain": [
       "                       colSums.is.na.df..\n",
       "country                0                 \n",
       "year                   0                 \n",
       "uniqueid               0                 \n",
       "bank_account           0                 \n",
       "location_type          0                 \n",
       "cellphone_access       0                 \n",
       "household_size         0                 \n",
       "age_of_respondent      0                 \n",
       "gender_of_respondent   0                 \n",
       "relationship_with_head 0                 \n",
       "marital_status         0                 \n",
       "education_level        0                 \n",
       "job_type               0                 "
      ]
     },
     "metadata": {},
     "output_type": "display_data"
    }
   ],
   "source": [
    "data.frame(colSums(is.na(df)))"
   ]
  },
  {
   "cell_type": "code",
   "execution_count": 53,
   "metadata": {
    "vscode": {
     "languageId": "r"
    }
   },
   "outputs": [
    {
     "data": {
      "image/png": "[encoded data removed]",
      "text/plain": [
       "plot without title"
      ]
     },
     "metadata": {
      "image/png": {
       "height": 420,
       "width": 420
      }
     },
     "output_type": "display_data"
    }
   ],
   "source": [
    "ggplot(data = df)+\n",
    "geom_bar(aes(factor(country) ,fill = factor(country)))\n"
   ]
  },
  {
   "attachments": {},
   "cell_type": "markdown",
   "metadata": {},
   "source": [
    "## Data transformation"
   ]
  },
  {
   "cell_type": "code",
   "execution_count": 54,
   "metadata": {
    "vscode": {
     "languageId": "r"
    }
   },
   "outputs": [],
   "source": [
    "df$country <- as.numeric(as.factor(country))"
   ]
  },
  {
   "cell_type": "code",
   "execution_count": 55,
   "metadata": {
    "vscode": {
     "languageId": "r"
    }
   },
   "outputs": [
    {
     "data": {
      "text/html": [
       "<table class=\"dataframe\">\n",
       "<caption>A data.frame: 6 × 13</caption>\n",
       "<thead>\n",
       "\t<tr><th></th><th scope=col>country</th><th scope=col>year</th><th scope=col>uniqueid</th><th scope=col>bank_account</th><th scope=col>location_type</th><th scope=col>cellphone_access</th><th scope=col>household_size</th><th scope=col>age_of_respondent</th><th scope=col>gender_of_respondent</th><th scope=col>relationship_with_head</th><th scope=col>marital_status</th><th scope=col>education_level</th><th scope=col>job_type</th></tr>\n",
       "\t<tr><th></th><th scope=col>&lt;dbl&gt;</th><th scope=col>&lt;int&gt;</th><th scope=col>&lt;chr&gt;</th><th scope=col>&lt;chr&gt;</th><th scope=col>&lt;chr&gt;</th><th scope=col>&lt;chr&gt;</th><th scope=col>&lt;int&gt;</th><th scope=col>&lt;int&gt;</th><th scope=col>&lt;chr&gt;</th><th scope=col>&lt;chr&gt;</th><th scope=col>&lt;chr&gt;</th><th scope=col>&lt;chr&gt;</th><th scope=col>&lt;chr&gt;</th></tr>\n",
       "</thead>\n",
       "<tbody>\n",
       "\t<tr><th scope=row>1</th><td>1</td><td>2018</td><td>uniqueid_1</td><td>Yes</td><td>Rural</td><td>Yes</td><td>3</td><td>24</td><td>Female</td><td>Spouse           </td><td>Married/Living together</td><td>Secondary education            </td><td>Self employed            </td></tr>\n",
       "\t<tr><th scope=row>2</th><td>1</td><td>2018</td><td>uniqueid_2</td><td>No </td><td>Rural</td><td>No </td><td>5</td><td>70</td><td>Female</td><td>Head of Household</td><td>Widowed                </td><td>No formal education            </td><td>Government Dependent     </td></tr>\n",
       "\t<tr><th scope=row>3</th><td>1</td><td>2018</td><td>uniqueid_3</td><td>Yes</td><td>Urban</td><td>Yes</td><td>5</td><td>26</td><td>Male  </td><td>Other relative   </td><td>Single/Never Married   </td><td>Vocational/Specialised training</td><td>Self employed            </td></tr>\n",
       "\t<tr><th scope=row>4</th><td>1</td><td>2018</td><td>uniqueid_4</td><td>No </td><td>Rural</td><td>Yes</td><td>5</td><td>34</td><td>Female</td><td>Head of Household</td><td>Married/Living together</td><td>Primary education              </td><td>Formally employed Private</td></tr>\n",
       "\t<tr><th scope=row>5</th><td>1</td><td>2018</td><td>uniqueid_5</td><td>No </td><td>Urban</td><td>No </td><td>8</td><td>26</td><td>Male  </td><td>Child            </td><td>Single/Never Married   </td><td>Primary education              </td><td>Informally employed      </td></tr>\n",
       "\t<tr><th scope=row>6</th><td>1</td><td>2018</td><td>uniqueid_6</td><td>No </td><td>Rural</td><td>No </td><td>7</td><td>26</td><td>Female</td><td>Spouse           </td><td>Married/Living together</td><td>Primary education              </td><td>Informally employed      </td></tr>\n",
       "</tbody>\n",
       "</table>\n"
      ],
      "text/latex": [
       "A data.frame: 6 × 13\n",
       "\\begin{tabular}{r|lllllllllllll}\n",
       "  & country & year & uniqueid & bank\\_account & location\\_type & cellphone\\_access & household\\_size & age\\_of\\_respondent & gender\\_of\\_respondent & relationship\\_with\\_head & marital\\_status & education\\_level & job\\_type\\\\\n",
       "  & <dbl> & <int> & <chr> & <chr> & <chr> & <chr> & <int> & <int> & <chr> & <chr> & <chr> & <chr> & <chr>\\\\\n",
       "\\hline\n",
       "\t1 & 1 & 2018 & uniqueid\\_1 & Yes & Rural & Yes & 3 & 24 & Female & Spouse            & Married/Living together & Secondary education             & Self employed            \\\\\n",
       "\t2 & 1 & 2018 & uniqueid\\_2 & No  & Rural & No  & 5 & 70 & Female & Head of Household & Widowed                 & No formal education             & Government Dependent     \\\\\n",
       "\t3 & 1 & 2018 & uniqueid\\_3 & Yes & Urban & Yes & 5 & 26 & Male   & Other relative    & Single/Never Married    & Vocational/Specialised training & Self employed            \\\\\n",
       "\t4 & 1 & 2018 & uniqueid\\_4 & No  & Rural & Yes & 5 & 34 & Female & Head of Household & Married/Living together & Primary education               & Formally employed Private\\\\\n",
       "\t5 & 1 & 2018 & uniqueid\\_5 & No  & Urban & No  & 8 & 26 & Male   & Child             & Single/Never Married    & Primary education               & Informally employed      \\\\\n",
       "\t6 & 1 & 2018 & uniqueid\\_6 & No  & Rural & No  & 7 & 26 & Female & Spouse            & Married/Living together & Primary education               & Informally employed      \\\\\n",
       "\\end{tabular}\n"
      ],
      "text/markdown": [
       "\n",
       "A data.frame: 6 × 13\n",
       "\n",
       "| <!--/--> | country &lt;dbl&gt; | year &lt;int&gt; | uniqueid &lt;chr&gt; | bank_account &lt;chr&gt; | location_type &lt;chr&gt; | cellphone_access &lt;chr&gt; | household_size &lt;int&gt; | age_of_respondent &lt;int&gt; | gender_of_respondent &lt;chr&gt; | relationship_with_head &lt;chr&gt; | marital_status &lt;chr&gt; | education_level &lt;chr&gt; | job_type &lt;chr&gt; |\n",
       "|---|---|---|---|---|---|---|---|---|---|---|---|---|---|\n",
       "| 1 | 1 | 2018 | uniqueid_1 | Yes | Rural | Yes | 3 | 24 | Female | Spouse            | Married/Living together | Secondary education             | Self employed             |\n",
       "| 2 | 1 | 2018 | uniqueid_2 | No  | Rural | No  | 5 | 70 | Female | Head of Household | Widowed                 | No formal education             | Government Dependent      |\n",
       "| 3 | 1 | 2018 | uniqueid_3 | Yes | Urban | Yes | 5 | 26 | Male   | Other relative    | Single/Never Married    | Vocational/Specialised training | Self employed             |\n",
       "| 4 | 1 | 2018 | uniqueid_4 | No  | Rural | Yes | 5 | 34 | Female | Head of Household | Married/Living together | Primary education               | Formally employed Private |\n",
       "| 5 | 1 | 2018 | uniqueid_5 | No  | Urban | No  | 8 | 26 | Male   | Child             | Single/Never Married    | Primary education               | Informally employed       |\n",
       "| 6 | 1 | 2018 | uniqueid_6 | No  | Rural | No  | 7 | 26 | Female | Spouse            | Married/Living together | Primary education               | Informally employed       |\n",
       "\n"
      ],
      "text/plain": [
       "  country year uniqueid   bank_account location_type cellphone_access\n",
       "1 1       2018 uniqueid_1 Yes          Rural         Yes             \n",
       "2 1       2018 uniqueid_2 No           Rural         No              \n",
       "3 1       2018 uniqueid_3 Yes          Urban         Yes             \n",
       "4 1       2018 uniqueid_4 No           Rural         Yes             \n",
       "5 1       2018 uniqueid_5 No           Urban         No              \n",
       "6 1       2018 uniqueid_6 No           Rural         No              \n",
       "  household_size age_of_respondent gender_of_respondent relationship_with_head\n",
       "1 3              24                Female               Spouse                \n",
       "2 5              70                Female               Head of Household     \n",
       "3 5              26                Male                 Other relative        \n",
       "4 5              34                Female               Head of Household     \n",
       "5 8              26                Male                 Child                 \n",
       "6 7              26                Female               Spouse                \n",
       "  marital_status          education_level                \n",
       "1 Married/Living together Secondary education            \n",
       "2 Widowed                 No formal education            \n",
       "3 Single/Never Married    Vocational/Specialised training\n",
       "4 Married/Living together Primary education              \n",
       "5 Single/Never Married    Primary education              \n",
       "6 Married/Living together Primary education              \n",
       "  job_type                 \n",
       "1 Self employed            \n",
       "2 Government Dependent     \n",
       "3 Self employed            \n",
       "4 Formally employed Private\n",
       "5 Informally employed      \n",
       "6 Informally employed      "
      ]
     },
     "metadata": {},
     "output_type": "display_data"
    }
   ],
   "source": [
    "head(df)"
   ]
  },
  {
   "cell_type": "code",
   "execution_count": 56,
   "metadata": {
    "vscode": {
     "languageId": "r"
    }
   },
   "outputs": [],
   "source": [
    "df <- mutate(df , target = ifelse(bank_account == 'Yes', 1,0))"
   ]
  },
  {
   "cell_type": "code",
   "execution_count": 57,
   "metadata": {
    "vscode": {
     "languageId": "r"
    }
   },
   "outputs": [],
   "source": [
    "df <- mutate(df , location_type_rural = ifelse(location_type == 'Rural', 1,0))\n",
    "df <- mutate(df , location_type_urban = ifelse(location_type == 'Urban', 1,0))"
   ]
  },
  {
   "cell_type": "code",
   "execution_count": 58,
   "metadata": {
    "vscode": {
     "languageId": "r"
    }
   },
   "outputs": [],
   "source": [
    "df <- mutate(df , cellphone_access_yes = ifelse(cellphone_access == 'Yes', 1,0))\n",
    "df <- mutate(df , cellphone_access_no = ifelse(cellphone_access == 'No', 1,0))"
   ]
  },
  {
   "cell_type": "code",
   "execution_count": 59,
   "metadata": {
    "vscode": {
     "languageId": "r"
    }
   },
   "outputs": [],
   "source": [
    "df <- mutate(df , gender_of_respondent_female = ifelse(gender_of_respondent == 'Female', 1,0))\n",
    "df <- mutate(df , gender_of_respondent_male = ifelse(gender_of_respondent == 'Male', 1,0))"
   ]
  },
  {
   "cell_type": "code",
   "execution_count": 60,
   "metadata": {
    "vscode": {
     "languageId": "r"
    }
   },
   "outputs": [],
   "source": [
    "df$relationship_with_head <- as.numeric(as.factor(relationship_with_head))\n",
    "df$marital_status <- as.numeric(as.factor(marital_status))\n",
    "df$education_level <- as.numeric(as.factor(education_level))\n",
    "df$job_type <- as.numeric(as.factor(job_type))"
   ]
  },
  {
   "cell_type": "code",
   "execution_count": 62,
   "metadata": {
    "vscode": {
     "languageId": "r"
    }
   },
   "outputs": [
    {
     "data": {
      "text/html": [
       "<table class=\"dataframe\">\n",
       "<caption>A data.frame: 6 × 20</caption>\n",
       "<thead>\n",
       "\t<tr><th></th><th scope=col>country</th><th scope=col>year</th><th scope=col>uniqueid</th><th scope=col>bank_account</th><th scope=col>location_type</th><th scope=col>cellphone_access</th><th scope=col>household_size</th><th scope=col>age_of_respondent</th><th scope=col>gender_of_respondent</th><th scope=col>relationship_with_head</th><th scope=col>marital_status</th><th scope=col>education_level</th><th scope=col>job_type</th><th scope=col>target</th><th scope=col>location_type_rural</th><th scope=col>location_type_urban</th><th scope=col>cellphone_access_yes</th><th scope=col>cellphone_access_no</th><th scope=col>gender_of_respondent_female</th><th scope=col>gender_of_respondent_male</th></tr>\n",
       "\t<tr><th></th><th scope=col>&lt;dbl&gt;</th><th scope=col>&lt;int&gt;</th><th scope=col>&lt;chr&gt;</th><th scope=col>&lt;chr&gt;</th><th scope=col>&lt;chr&gt;</th><th scope=col>&lt;chr&gt;</th><th scope=col>&lt;int&gt;</th><th scope=col>&lt;int&gt;</th><th scope=col>&lt;chr&gt;</th><th scope=col>&lt;dbl&gt;</th><th scope=col>&lt;dbl&gt;</th><th scope=col>&lt;dbl&gt;</th><th scope=col>&lt;dbl&gt;</th><th scope=col>&lt;dbl&gt;</th><th scope=col>&lt;dbl&gt;</th><th scope=col>&lt;dbl&gt;</th><th scope=col>&lt;dbl&gt;</th><th scope=col>&lt;dbl&gt;</th><th scope=col>&lt;dbl&gt;</th><th scope=col>&lt;dbl&gt;</th></tr>\n",
       "</thead>\n",
       "<tbody>\n",
       "\t<tr><th scope=row>1</th><td>1</td><td>2018</td><td>uniqueid_1</td><td>Yes</td><td>Rural</td><td>Yes</td><td>3</td><td>24</td><td>Female</td><td>6</td><td>3</td><td>4</td><td>10</td><td>1</td><td>1</td><td>0</td><td>1</td><td>0</td><td>1</td><td>0</td></tr>\n",
       "\t<tr><th scope=row>2</th><td>1</td><td>2018</td><td>uniqueid_2</td><td>No </td><td>Rural</td><td>No </td><td>5</td><td>70</td><td>Female</td><td>2</td><td>5</td><td>1</td><td> 5</td><td>0</td><td>1</td><td>0</td><td>0</td><td>1</td><td>1</td><td>0</td></tr>\n",
       "\t<tr><th scope=row>3</th><td>1</td><td>2018</td><td>uniqueid_3</td><td>Yes</td><td>Urban</td><td>Yes</td><td>5</td><td>26</td><td>Male  </td><td>4</td><td>4</td><td>6</td><td>10</td><td>1</td><td>0</td><td>1</td><td>1</td><td>0</td><td>0</td><td>1</td></tr>\n",
       "\t<tr><th scope=row>4</th><td>1</td><td>2018</td><td>uniqueid_4</td><td>No </td><td>Rural</td><td>Yes</td><td>5</td><td>34</td><td>Female</td><td>2</td><td>3</td><td>3</td><td> 4</td><td>0</td><td>1</td><td>0</td><td>1</td><td>0</td><td>1</td><td>0</td></tr>\n",
       "\t<tr><th scope=row>5</th><td>1</td><td>2018</td><td>uniqueid_5</td><td>No </td><td>Urban</td><td>No </td><td>8</td><td>26</td><td>Male  </td><td>1</td><td>4</td><td>3</td><td> 6</td><td>0</td><td>0</td><td>1</td><td>0</td><td>1</td><td>0</td><td>1</td></tr>\n",
       "\t<tr><th scope=row>6</th><td>1</td><td>2018</td><td>uniqueid_6</td><td>No </td><td>Rural</td><td>No </td><td>7</td><td>26</td><td>Female</td><td>6</td><td>3</td><td>3</td><td> 6</td><td>0</td><td>1</td><td>0</td><td>0</td><td>1</td><td>1</td><td>0</td></tr>\n",
       "</tbody>\n",
       "</table>\n"
      ],
      "text/latex": [
       "A data.frame: 6 × 20\n",
       "\\begin{tabular}{r|llllllllllllllllllll}\n",
       "  & country & year & uniqueid & bank\\_account & location\\_type & cellphone\\_access & household\\_size & age\\_of\\_respondent & gender\\_of\\_respondent & relationship\\_with\\_head & marital\\_status & education\\_level & job\\_type & target & location\\_type\\_rural & location\\_type\\_urban & cellphone\\_access\\_yes & cellphone\\_access\\_no & gender\\_of\\_respondent\\_female & gender\\_of\\_respondent\\_male\\\\\n",
       "  & <dbl> & <int> & <chr> & <chr> & <chr> & <chr> & <int> & <int> & <chr> & <dbl> & <dbl> & <dbl> & <dbl> & <dbl> & <dbl> & <dbl> & <dbl> & <dbl> & <dbl> & <dbl>\\\\\n",
       "\\hline\n",
       "\t1 & 1 & 2018 & uniqueid\\_1 & Yes & Rural & Yes & 3 & 24 & Female & 6 & 3 & 4 & 10 & 1 & 1 & 0 & 1 & 0 & 1 & 0\\\\\n",
       "\t2 & 1 & 2018 & uniqueid\\_2 & No  & Rural & No  & 5 & 70 & Female & 2 & 5 & 1 &  5 & 0 & 1 & 0 & 0 & 1 & 1 & 0\\\\\n",
       "\t3 & 1 & 2018 & uniqueid\\_3 & Yes & Urban & Yes & 5 & 26 & Male   & 4 & 4 & 6 & 10 & 1 & 0 & 1 & 1 & 0 & 0 & 1\\\\\n",
       "\t4 & 1 & 2018 & uniqueid\\_4 & No  & Rural & Yes & 5 & 34 & Female & 2 & 3 & 3 &  4 & 0 & 1 & 0 & 1 & 0 & 1 & 0\\\\\n",
       "\t5 & 1 & 2018 & uniqueid\\_5 & No  & Urban & No  & 8 & 26 & Male   & 1 & 4 & 3 &  6 & 0 & 0 & 1 & 0 & 1 & 0 & 1\\\\\n",
       "\t6 & 1 & 2018 & uniqueid\\_6 & No  & Rural & No  & 7 & 26 & Female & 6 & 3 & 3 &  6 & 0 & 1 & 0 & 0 & 1 & 1 & 0\\\\\n",
       "\\end{tabular}\n"
      ],
      "text/markdown": [
       "\n",
       "A data.frame: 6 × 20\n",
       "\n",
       "| <!--/--> | country &lt;dbl&gt; | year &lt;int&gt; | uniqueid &lt;chr&gt; | bank_account &lt;chr&gt; | location_type &lt;chr&gt; | cellphone_access &lt;chr&gt; | household_size &lt;int&gt; | age_of_respondent &lt;int&gt; | gender_of_respondent &lt;chr&gt; | relationship_with_head &lt;dbl&gt; | marital_status &lt;dbl&gt; | education_level &lt;dbl&gt; | job_type &lt;dbl&gt; | target &lt;dbl&gt; | location_type_rural &lt;dbl&gt; | location_type_urban &lt;dbl&gt; | cellphone_access_yes &lt;dbl&gt; | cellphone_access_no &lt;dbl&gt; | gender_of_respondent_female &lt;dbl&gt; | gender_of_respondent_male &lt;dbl&gt; |\n",
       "|---|---|---|---|---|---|---|---|---|---|---|---|---|---|---|---|---|---|---|---|---|\n",
       "| 1 | 1 | 2018 | uniqueid_1 | Yes | Rural | Yes | 3 | 24 | Female | 6 | 3 | 4 | 10 | 1 | 1 | 0 | 1 | 0 | 1 | 0 |\n",
       "| 2 | 1 | 2018 | uniqueid_2 | No  | Rural | No  | 5 | 70 | Female | 2 | 5 | 1 |  5 | 0 | 1 | 0 | 0 | 1 | 1 | 0 |\n",
       "| 3 | 1 | 2018 | uniqueid_3 | Yes | Urban | Yes | 5 | 26 | Male   | 4 | 4 | 6 | 10 | 1 | 0 | 1 | 1 | 0 | 0 | 1 |\n",
       "| 4 | 1 | 2018 | uniqueid_4 | No  | Rural | Yes | 5 | 34 | Female | 2 | 3 | 3 |  4 | 0 | 1 | 0 | 1 | 0 | 1 | 0 |\n",
       "| 5 | 1 | 2018 | uniqueid_5 | No  | Urban | No  | 8 | 26 | Male   | 1 | 4 | 3 |  6 | 0 | 0 | 1 | 0 | 1 | 0 | 1 |\n",
       "| 6 | 1 | 2018 | uniqueid_6 | No  | Rural | No  | 7 | 26 | Female | 6 | 3 | 3 |  6 | 0 | 1 | 0 | 0 | 1 | 1 | 0 |\n",
       "\n"
      ],
      "text/plain": [
       "  country year uniqueid   bank_account location_type cellphone_access\n",
       "1 1       2018 uniqueid_1 Yes          Rural         Yes             \n",
       "2 1       2018 uniqueid_2 No           Rural         No              \n",
       "3 1       2018 uniqueid_3 Yes          Urban         Yes             \n",
       "4 1       2018 uniqueid_4 No           Rural         Yes             \n",
       "5 1       2018 uniqueid_5 No           Urban         No              \n",
       "6 1       2018 uniqueid_6 No           Rural         No              \n",
       "  household_size age_of_respondent gender_of_respondent relationship_with_head\n",
       "1 3              24                Female               6                     \n",
       "2 5              70                Female               2                     \n",
       "3 5              26                Male                 4                     \n",
       "4 5              34                Female               2                     \n",
       "5 8              26                Male                 1                     \n",
       "6 7              26                Female               6                     \n",
       "  marital_status education_level job_type target location_type_rural\n",
       "1 3              4               10       1      1                  \n",
       "2 5              1                5       0      1                  \n",
       "3 4              6               10       1      0                  \n",
       "4 3              3                4       0      1                  \n",
       "5 4              3                6       0      0                  \n",
       "6 3              3                6       0      1                  \n",
       "  location_type_urban cellphone_access_yes cellphone_access_no\n",
       "1 0                   1                    0                  \n",
       "2 0                   0                    1                  \n",
       "3 1                   1                    0                  \n",
       "4 0                   1                    0                  \n",
       "5 1                   0                    1                  \n",
       "6 0                   0                    1                  \n",
       "  gender_of_respondent_female gender_of_respondent_male\n",
       "1 1                           0                        \n",
       "2 1                           0                        \n",
       "3 0                           1                        \n",
       "4 1                           0                        \n",
       "5 0                           1                        \n",
       "6 1                           0                        "
      ]
     },
     "metadata": {},
     "output_type": "display_data"
    }
   ],
   "source": [
    "head(df)"
   ]
  },
  {
   "cell_type": "code",
   "execution_count": 63,
   "metadata": {
    "vscode": {
     "languageId": "r"
    }
   },
   "outputs": [],
   "source": [
    "df <- df %>% select(-c(uniqueid , bank_account , location_type , cellphone_access\t,gender_of_respondent))"
   ]
  },
  {
   "cell_type": "code",
   "execution_count": 64,
   "metadata": {
    "vscode": {
     "languageId": "r"
    }
   },
   "outputs": [
    {
     "data": {
      "text/html": [
       "<table class=\"dataframe\">\n",
       "<caption>A data.frame: 6 × 15</caption>\n",
       "<thead>\n",
       "\t<tr><th></th><th scope=col>country</th><th scope=col>year</th><th scope=col>household_size</th><th scope=col>age_of_respondent</th><th scope=col>relationship_with_head</th><th scope=col>marital_status</th><th scope=col>education_level</th><th scope=col>job_type</th><th scope=col>target</th><th scope=col>location_type_rural</th><th scope=col>location_type_urban</th><th scope=col>cellphone_access_yes</th><th scope=col>cellphone_access_no</th><th scope=col>gender_of_respondent_female</th><th scope=col>gender_of_respondent_male</th></tr>\n",
       "\t<tr><th></th><th scope=col>&lt;dbl&gt;</th><th scope=col>&lt;int&gt;</th><th scope=col>&lt;int&gt;</th><th scope=col>&lt;int&gt;</th><th scope=col>&lt;dbl&gt;</th><th scope=col>&lt;dbl&gt;</th><th scope=col>&lt;dbl&gt;</th><th scope=col>&lt;dbl&gt;</th><th scope=col>&lt;dbl&gt;</th><th scope=col>&lt;dbl&gt;</th><th scope=col>&lt;dbl&gt;</th><th scope=col>&lt;dbl&gt;</th><th scope=col>&lt;dbl&gt;</th><th scope=col>&lt;dbl&gt;</th><th scope=col>&lt;dbl&gt;</th></tr>\n",
       "</thead>\n",
       "<tbody>\n",
       "\t<tr><th scope=row>1</th><td>1</td><td>2018</td><td>3</td><td>24</td><td>6</td><td>3</td><td>4</td><td>10</td><td>1</td><td>1</td><td>0</td><td>1</td><td>0</td><td>1</td><td>0</td></tr>\n",
       "\t<tr><th scope=row>2</th><td>1</td><td>2018</td><td>5</td><td>70</td><td>2</td><td>5</td><td>1</td><td> 5</td><td>0</td><td>1</td><td>0</td><td>0</td><td>1</td><td>1</td><td>0</td></tr>\n",
       "\t<tr><th scope=row>3</th><td>1</td><td>2018</td><td>5</td><td>26</td><td>4</td><td>4</td><td>6</td><td>10</td><td>1</td><td>0</td><td>1</td><td>1</td><td>0</td><td>0</td><td>1</td></tr>\n",
       "\t<tr><th scope=row>4</th><td>1</td><td>2018</td><td>5</td><td>34</td><td>2</td><td>3</td><td>3</td><td> 4</td><td>0</td><td>1</td><td>0</td><td>1</td><td>0</td><td>1</td><td>0</td></tr>\n",
       "\t<tr><th scope=row>5</th><td>1</td><td>2018</td><td>8</td><td>26</td><td>1</td><td>4</td><td>3</td><td> 6</td><td>0</td><td>0</td><td>1</td><td>0</td><td>1</td><td>0</td><td>1</td></tr>\n",
       "\t<tr><th scope=row>6</th><td>1</td><td>2018</td><td>7</td><td>26</td><td>6</td><td>3</td><td>3</td><td> 6</td><td>0</td><td>1</td><td>0</td><td>0</td><td>1</td><td>1</td><td>0</td></tr>\n",
       "</tbody>\n",
       "</table>\n"
      ],
      "text/latex": [
       "A data.frame: 6 × 15\n",
       "\\begin{tabular}{r|lllllllllllllll}\n",
       "  & country & year & household\\_size & age\\_of\\_respondent & relationship\\_with\\_head & marital\\_status & education\\_level & job\\_type & target & location\\_type\\_rural & location\\_type\\_urban & cellphone\\_access\\_yes & cellphone\\_access\\_no & gender\\_of\\_respondent\\_female & gender\\_of\\_respondent\\_male\\\\\n",
       "  & <dbl> & <int> & <int> & <int> & <dbl> & <dbl> & <dbl> & <dbl> & <dbl> & <dbl> & <dbl> & <dbl> & <dbl> & <dbl> & <dbl>\\\\\n",
       "\\hline\n",
       "\t1 & 1 & 2018 & 3 & 24 & 6 & 3 & 4 & 10 & 1 & 1 & 0 & 1 & 0 & 1 & 0\\\\\n",
       "\t2 & 1 & 2018 & 5 & 70 & 2 & 5 & 1 &  5 & 0 & 1 & 0 & 0 & 1 & 1 & 0\\\\\n",
       "\t3 & 1 & 2018 & 5 & 26 & 4 & 4 & 6 & 10 & 1 & 0 & 1 & 1 & 0 & 0 & 1\\\\\n",
       "\t4 & 1 & 2018 & 5 & 34 & 2 & 3 & 3 &  4 & 0 & 1 & 0 & 1 & 0 & 1 & 0\\\\\n",
       "\t5 & 1 & 2018 & 8 & 26 & 1 & 4 & 3 &  6 & 0 & 0 & 1 & 0 & 1 & 0 & 1\\\\\n",
       "\t6 & 1 & 2018 & 7 & 26 & 6 & 3 & 3 &  6 & 0 & 1 & 0 & 0 & 1 & 1 & 0\\\\\n",
       "\\end{tabular}\n"
      ],
      "text/markdown": [
       "\n",
       "A data.frame: 6 × 15\n",
       "\n",
       "| <!--/--> | country &lt;dbl&gt; | year &lt;int&gt; | household_size &lt;int&gt; | age_of_respondent &lt;int&gt; | relationship_with_head &lt;dbl&gt; | marital_status &lt;dbl&gt; | education_level &lt;dbl&gt; | job_type &lt;dbl&gt; | target &lt;dbl&gt; | location_type_rural &lt;dbl&gt; | location_type_urban &lt;dbl&gt; | cellphone_access_yes &lt;dbl&gt; | cellphone_access_no &lt;dbl&gt; | gender_of_respondent_female &lt;dbl&gt; | gender_of_respondent_male &lt;dbl&gt; |\n",
       "|---|---|---|---|---|---|---|---|---|---|---|---|---|---|---|---|\n",
       "| 1 | 1 | 2018 | 3 | 24 | 6 | 3 | 4 | 10 | 1 | 1 | 0 | 1 | 0 | 1 | 0 |\n",
       "| 2 | 1 | 2018 | 5 | 70 | 2 | 5 | 1 |  5 | 0 | 1 | 0 | 0 | 1 | 1 | 0 |\n",
       "| 3 | 1 | 2018 | 5 | 26 | 4 | 4 | 6 | 10 | 1 | 0 | 1 | 1 | 0 | 0 | 1 |\n",
       "| 4 | 1 | 2018 | 5 | 34 | 2 | 3 | 3 |  4 | 0 | 1 | 0 | 1 | 0 | 1 | 0 |\n",
       "| 5 | 1 | 2018 | 8 | 26 | 1 | 4 | 3 |  6 | 0 | 0 | 1 | 0 | 1 | 0 | 1 |\n",
       "| 6 | 1 | 2018 | 7 | 26 | 6 | 3 | 3 |  6 | 0 | 1 | 0 | 0 | 1 | 1 | 0 |\n",
       "\n"
      ],
      "text/plain": [
       "  country year household_size age_of_respondent relationship_with_head\n",
       "1 1       2018 3              24                6                     \n",
       "2 1       2018 5              70                2                     \n",
       "3 1       2018 5              26                4                     \n",
       "4 1       2018 5              34                2                     \n",
       "5 1       2018 8              26                1                     \n",
       "6 1       2018 7              26                6                     \n",
       "  marital_status education_level job_type target location_type_rural\n",
       "1 3              4               10       1      1                  \n",
       "2 5              1                5       0      1                  \n",
       "3 4              6               10       1      0                  \n",
       "4 3              3                4       0      1                  \n",
       "5 4              3                6       0      0                  \n",
       "6 3              3                6       0      1                  \n",
       "  location_type_urban cellphone_access_yes cellphone_access_no\n",
       "1 0                   1                    0                  \n",
       "2 0                   0                    1                  \n",
       "3 1                   1                    0                  \n",
       "4 0                   1                    0                  \n",
       "5 1                   0                    1                  \n",
       "6 0                   0                    1                  \n",
       "  gender_of_respondent_female gender_of_respondent_male\n",
       "1 1                           0                        \n",
       "2 1                           0                        \n",
       "3 0                           1                        \n",
       "4 1                           0                        \n",
       "5 0                           1                        \n",
       "6 1                           0                        "
      ]
     },
     "metadata": {},
     "output_type": "display_data"
    }
   ],
   "source": [
    "head(df)"
   ]
  },
  {
   "cell_type": "code",
   "execution_count": 65,
   "metadata": {
    "vscode": {
     "languageId": "r"
    }
   },
   "outputs": [],
   "source": [
    "set.seed(1)\n",
    "\n",
    "#use 80% of dataset as training set and 20% as test set\n",
    "sample <- sample(c(TRUE, FALSE), nrow(df), replace=TRUE, prob=c(0.8,0.2))\n",
    "data_train  <- df[sample, ]\n",
    "data_test   <- df[!sample, ]"
   ]
  },
  {
   "cell_type": "code",
   "execution_count": 68,
   "metadata": {
    "vscode": {
     "languageId": "r"
    }
   },
   "outputs": [
    {
     "data": {
      "text/plain": [
       "\n",
       "        0         1 \n",
       "0.8580566 0.1419434 "
      ]
     },
     "metadata": {},
     "output_type": "display_data"
    }
   ],
   "source": [
    "#cheking  probabilities of survival in data_train\n",
    "prop.table(table(data_train$target))"
   ]
  },
  {
   "cell_type": "code",
   "execution_count": 69,
   "metadata": {
    "vscode": {
     "languageId": "r"
    }
   },
   "outputs": [
    {
     "data": {
      "text/plain": [
       "\n",
       "        0         1 \n",
       "0.8637413 0.1362587 "
      ]
     },
     "metadata": {},
     "output_type": "display_data"
    }
   ],
   "source": [
    "prop.table(table(data_test$target))"
   ]
  },
  {
   "cell_type": "code",
   "execution_count": 70,
   "metadata": {
    "vscode": {
     "languageId": "r"
    }
   },
   "outputs": [],
   "source": [
    "X_train <- data.frame(data_train %>% select(-c(target)))\n",
    "y_train  <- data.frame( data_train$target)\n",
    "X_test <- data.frame(data_test %>% select(-c(target)))\n",
    "y_test  <- data.frame( data_test$target)"
   ]
  },
  {
   "cell_type": "code",
   "execution_count": 71,
   "metadata": {
    "vscode": {
     "languageId": "r"
    }
   },
   "outputs": [
    {
     "data": {
      "image/png": "[encoded data removed]",
      "text/plain": [
       "plot without title"
      ]
     },
     "metadata": {
      "image/png": {
       "height": 420,
       "width": 420
      }
     },
     "output_type": "display_data"
    }
   ],
   "source": [
    "library(rpart)\n",
    "library(rpart.plot)\n",
    "\n",
    "model_fit <- rpart(target~. , data = data_train , method = 'class')\n",
    "rpart.plot(model_fit , extra = 106)\n"
   ]
  },
  {
   "cell_type": "code",
   "execution_count": 73,
   "metadata": {
    "vscode": {
     "languageId": "r"
    }
   },
   "outputs": [
    {
     "data": {
      "text/plain": [
       "   predictions\n",
       "       0    1\n",
       "  0 4031   83\n",
       "  1  485  164"
      ]
     },
     "metadata": {},
     "output_type": "display_data"
    }
   ],
   "source": [
    "predictions <- predict(model_fit , data_test , type = 'class')\n",
    "table_mat <- table(data_test$target , predictions)\n",
    "table_mat"
   ]
  },
  {
   "cell_type": "code",
   "execution_count": 74,
   "metadata": {
    "vscode": {
     "languageId": "r"
    }
   },
   "outputs": [
    {
     "data": {
      "text/html": [
       "<table class=\"dataframe\">\n",
       "<caption>A tibble: 4 × 3</caption>\n",
       "<thead>\n",
       "\t<tr><th scope=col>Var1</th><th scope=col>predictions</th><th scope=col>Freq</th></tr>\n",
       "\t<tr><th scope=col>&lt;fct&gt;</th><th scope=col>&lt;fct&gt;</th><th scope=col>&lt;int&gt;</th></tr>\n",
       "</thead>\n",
       "<tbody>\n",
       "\t<tr><td>0</td><td>0</td><td>4031</td></tr>\n",
       "\t<tr><td>1</td><td>0</td><td> 485</td></tr>\n",
       "\t<tr><td>0</td><td>1</td><td>  83</td></tr>\n",
       "\t<tr><td>1</td><td>1</td><td> 164</td></tr>\n",
       "</tbody>\n",
       "</table>\n"
      ],
      "text/latex": [
       "A tibble: 4 × 3\n",
       "\\begin{tabular}{lll}\n",
       " Var1 & predictions & Freq\\\\\n",
       " <fct> & <fct> & <int>\\\\\n",
       "\\hline\n",
       "\t 0 & 0 & 4031\\\\\n",
       "\t 1 & 0 &  485\\\\\n",
       "\t 0 & 1 &   83\\\\\n",
       "\t 1 & 1 &  164\\\\\n",
       "\\end{tabular}\n"
      ],
      "text/markdown": [
       "\n",
       "A tibble: 4 × 3\n",
       "\n",
       "| Var1 &lt;fct&gt; | predictions &lt;fct&gt; | Freq &lt;int&gt; |\n",
       "|---|---|---|\n",
       "| 0 | 0 | 4031 |\n",
       "| 1 | 0 |  485 |\n",
       "| 0 | 1 |   83 |\n",
       "| 1 | 1 |  164 |\n",
       "\n"
      ],
      "text/plain": [
       "  Var1 predictions Freq\n",
       "1 0    0           4031\n",
       "2 1    0            485\n",
       "3 0    1             83\n",
       "4 1    1            164"
      ]
     },
     "metadata": {},
     "output_type": "display_data"
    }
   ],
   "source": [
    "mat_df <-  as_tibble(data.frame(table_mat ))\n",
    "mat_df"
   ]
  },
  {
   "cell_type": "code",
   "execution_count": 75,
   "metadata": {
    "vscode": {
     "languageId": "r"
    }
   },
   "outputs": [
    {
     "data": {
      "image/png": "[encoded data removed]",
      "text/plain": [
       "plot without title"
      ]
     },
     "metadata": {
      "image/png": {
       "height": 420,
       "width": 420
      }
     },
     "output_type": "display_data"
    }
   ],
   "source": [
    "library(ggplot2)\n",
    "ggplot(data =  mat_df, mapping = aes(x = Var1, y = predictions)) +\n",
    "  geom_tile(aes(fill = Freq), colour = \"white\") +\n",
    "  geom_text(aes(label = sprintf(\"%1.0f\", Freq)), vjust = 1 , size = 17) +\n",
    "  scale_fill_gradient(low = \"blue\", high = \"red\") +\n",
    "  theme_bw() + theme(legend.position = \"none\" , axis.text = element_text(size = rel(2) , color = '#00020e'))"
   ]
  },
  {
   "cell_type": "code",
   "execution_count": 76,
   "metadata": {
    "vscode": {
     "languageId": "r"
    }
   },
   "outputs": [
    {
     "data": {
      "text/html": [
       "0.880747428091539"
      ],
      "text/latex": [
       "0.880747428091539"
      ],
      "text/markdown": [
       "0.880747428091539"
      ],
      "text/plain": [
       "[1] 0.8807474"
      ]
     },
     "metadata": {},
     "output_type": "display_data"
    }
   ],
   "source": [
    "accuracy_Test <- sum(diag(table_mat)) / sum(table_mat)\n",
    "\n",
    "accuracy_Test"
   ]
  },
  {
   "cell_type": "code",
   "execution_count": 78,
   "metadata": {
    "vscode": {
     "languageId": "r"
    }
   },
   "outputs": [
    {
     "data": {
      "text/html": [
       "0.881587234935965"
      ],
      "text/latex": [
       "0.881587234935965"
      ],
      "text/markdown": [
       "0.881587234935965"
      ],
      "text/plain": [
       "[1] 0.8815872"
      ]
     },
     "metadata": {},
     "output_type": "display_data"
    }
   ],
   "source": [
    "#paremeter turning \n",
    "accuracy_tune <- function(model_fit) {\n",
    "    predictions <- predict(model_fit, data_test, type = 'class')\n",
    "    table_mat <- table(data_test$target, predictions)\n",
    "    accuracy_Test <- sum(diag(table_mat)) / sum(table_mat)\n",
    "    accuracy_Test\n",
    "}\n",
    "\n",
    "control <- rpart.control(minsplit = 1,\n",
    "    minbucket = round(1 / 3),\n",
    "    maxdepth = 3,\n",
    "    cp = 0)\n",
    "tune_fit <- rpart(target~., data = data_train, method = 'class', control = control)\n",
    "accuracy_tune(tune_fit)"
   ]
  },
  {
   "cell_type": "code",
   "execution_count": 79,
   "metadata": {
    "vscode": {
     "languageId": "r"
    }
   },
   "outputs": [
    {
     "name": "stdout",
     "output_type": "stream",
     "text": [
      "[1] \"0.868 minisplit =  1 maxdepth =  1 minibucket = 1\"\n",
      "[1] \"0.881 minisplit =  1 maxdepth =  2 minibucket = 1\"\n",
      "[1] \"0.882 minisplit =  1 maxdepth =  3 minibucket = 1\"\n",
      "[1] \"0.882 minisplit =  1 maxdepth =  4 minibucket = 1\"\n",
      "[1] \"0.883 minisplit =  1 maxdepth =  5 minibucket = 1\"\n",
      "[1] \"0.883 minisplit =  1 maxdepth =  6 minibucket = 1\"\n",
      "[1] \"0.884 minisplit =  1 maxdepth =  8 minibucket = 1\"\n",
      "[1] \"0.885 minisplit =  1 maxdepth =  8 minibucket = 5\"\n",
      "[1] \"0.885 minisplit =  7 maxdepth =  8 minibucket = 5\"\n",
      "[1] \"0.885 minisplit =  9 maxdepth =  8 minibucket = 5\"\n"
     ]
    }
   ],
   "source": [
    "#parameter turning\n",
    "previous_accuracy <- 0\n",
    "for (x in 1:10) {\n",
    "  for(y in 1:30){\n",
    "    for(z in 1:10){\n",
    "        control <- rpart.control(minsplit = x,\n",
    "        minbucket = round(z / 3),\n",
    "        maxdepth = y,\n",
    "        cp = 0)\n",
    "        tune_fit <- rpart(target~., data = data_train, method = 'class', control = control)\n",
    "        accuracy <- accuracy_tune(tune_fit)\n",
    "        if(accuracy > previous_accuracy){\n",
    "            print(paste(round(accuracy, 3) , 'minisplit = ' , x , 'maxdepth = ' , y , 'minibucket =' , z))\n",
    "            previous_accuracy <- accuracy\n",
    "        }   \n",
    "    }\n",
    "  }\n",
    "}"
   ]
  },
  {
   "cell_type": "code",
   "execution_count": 82,
   "metadata": {
    "vscode": {
     "languageId": "r"
    }
   },
   "outputs": [
    {
     "data": {
      "text/html": [
       "0.884106655469242"
      ],
      "text/latex": [
       "0.884106655469242"
      ],
      "text/markdown": [
       "0.884106655469242"
      ],
      "text/plain": [
       "[1] 0.8841067"
      ]
     },
     "metadata": {},
     "output_type": "display_data"
    }
   ],
   "source": [
    "control <- rpart.control(minsplit = 1,\n",
    "    minbucket = round(8 / 3),\n",
    "    maxdepth = 8,\n",
    "    cp = 0)\n",
    "model_fit <- rpart(target~., data = data_train, method = 'class', control = control)\n",
    "accuracy_tune(model_fit)"
   ]
  },
  {
   "cell_type": "code",
   "execution_count": 83,
   "metadata": {
    "vscode": {
     "languageId": "r"
    }
   },
   "outputs": [
    {
     "data": {
      "text/html": [
       "<table class=\"dataframe\">\n",
       "<caption>A data.frame: 6 × 1</caption>\n",
       "<thead>\n",
       "\t<tr><th></th><th scope=col>pred</th></tr>\n",
       "\t<tr><th></th><th scope=col>&lt;fct&gt;</th></tr>\n",
       "</thead>\n",
       "<tbody>\n",
       "\t<tr><th scope=row>4</th><td>0</td></tr>\n",
       "\t<tr><th scope=row>6</th><td>0</td></tr>\n",
       "\t<tr><th scope=row>7</th><td>0</td></tr>\n",
       "\t<tr><th scope=row>18</th><td>0</td></tr>\n",
       "\t<tr><th scope=row>21</th><td>0</td></tr>\n",
       "\t<tr><th scope=row>29</th><td>0</td></tr>\n",
       "</tbody>\n",
       "</table>\n"
      ],
      "text/latex": [
       "A data.frame: 6 × 1\n",
       "\\begin{tabular}{r|l}\n",
       "  & pred\\\\\n",
       "  & <fct>\\\\\n",
       "\\hline\n",
       "\t4 & 0\\\\\n",
       "\t6 & 0\\\\\n",
       "\t7 & 0\\\\\n",
       "\t18 & 0\\\\\n",
       "\t21 & 0\\\\\n",
       "\t29 & 0\\\\\n",
       "\\end{tabular}\n"
      ],
      "text/markdown": [
       "\n",
       "A data.frame: 6 × 1\n",
       "\n",
       "| <!--/--> | pred &lt;fct&gt; |\n",
       "|---|---|\n",
       "| 4 | 0 |\n",
       "| 6 | 0 |\n",
       "| 7 | 0 |\n",
       "| 18 | 0 |\n",
       "| 21 | 0 |\n",
       "| 29 | 0 |\n",
       "\n"
      ],
      "text/plain": [
       "   pred\n",
       "4  0   \n",
       "6  0   \n",
       "7  0   \n",
       "18 0   \n",
       "21 0   \n",
       "29 0   "
      ]
     },
     "metadata": {},
     "output_type": "display_data"
    }
   ],
   "source": [
    "# getting predictions\n",
    "y_pre <- data.frame(predict(model_fit , X_test , type = 'class'))\n",
    "\n",
    "colnames(y_pre) <- c('pred')\n",
    "\n",
    "head(y_pre)"
   ]
  },
  {
   "cell_type": "code",
   "execution_count": 85,
   "metadata": {
    "vscode": {
     "languageId": "r"
    }
   },
   "outputs": [
    {
     "data": {
      "text/plain": [
       "   \n",
       "       0    1\n",
       "  0 4013  101\n",
       "  1  451  198"
      ]
     },
     "metadata": {},
     "output_type": "display_data"
    }
   ],
   "source": [
    "table_mat <- table(data_test$target , y_pre$pred)\n",
    "table_mat"
   ]
  },
  {
   "cell_type": "code",
   "execution_count": 86,
   "metadata": {
    "vscode": {
     "languageId": "r"
    }
   },
   "outputs": [
    {
     "data": {
      "text/html": [
       "0.884106655469242"
      ],
      "text/latex": [
       "0.884106655469242"
      ],
      "text/markdown": [
       "0.884106655469242"
      ],
      "text/plain": [
       "[1] 0.8841067"
      ]
     },
     "metadata": {},
     "output_type": "display_data"
    }
   ],
   "source": [
    "accuracy_Test <- sum(diag(table_mat)) / sum(table_mat)\n",
    "\n",
    "accuracy_Test"
   ]
  },
  {
   "cell_type": "code",
   "execution_count": 94,
   "metadata": {
    "vscode": {
     "languageId": "r"
    }
   },
   "outputs": [
    {
     "data": {
      "text/html": [
       "<table class=\"dataframe\">\n",
       "<caption>A tibble: 4 × 3</caption>\n",
       "<thead>\n",
       "\t<tr><th scope=col>Var1</th><th scope=col>Var2</th><th scope=col>Freq</th></tr>\n",
       "\t<tr><th scope=col>&lt;fct&gt;</th><th scope=col>&lt;fct&gt;</th><th scope=col>&lt;int&gt;</th></tr>\n",
       "</thead>\n",
       "<tbody>\n",
       "\t<tr><td>0</td><td>0</td><td>4013</td></tr>\n",
       "\t<tr><td>1</td><td>0</td><td> 451</td></tr>\n",
       "\t<tr><td>0</td><td>1</td><td> 101</td></tr>\n",
       "\t<tr><td>1</td><td>1</td><td> 198</td></tr>\n",
       "</tbody>\n",
       "</table>\n"
      ],
      "text/latex": [
       "A tibble: 4 × 3\n",
       "\\begin{tabular}{lll}\n",
       " Var1 & Var2 & Freq\\\\\n",
       " <fct> & <fct> & <int>\\\\\n",
       "\\hline\n",
       "\t 0 & 0 & 4013\\\\\n",
       "\t 1 & 0 &  451\\\\\n",
       "\t 0 & 1 &  101\\\\\n",
       "\t 1 & 1 &  198\\\\\n",
       "\\end{tabular}\n"
      ],
      "text/markdown": [
       "\n",
       "A tibble: 4 × 3\n",
       "\n",
       "| Var1 &lt;fct&gt; | Var2 &lt;fct&gt; | Freq &lt;int&gt; |\n",
       "|---|---|---|\n",
       "| 0 | 0 | 4013 |\n",
       "| 1 | 0 |  451 |\n",
       "| 0 | 1 |  101 |\n",
       "| 1 | 1 |  198 |\n",
       "\n"
      ],
      "text/plain": [
       "  Var1 Var2 Freq\n",
       "1 0    0    4013\n",
       "2 1    0     451\n",
       "3 0    1     101\n",
       "4 1    1     198"
      ]
     },
     "metadata": {},
     "output_type": "display_data"
    }
   ],
   "source": [
    "mat_df <-  as_tibble(data.frame(table_mat ))\n",
    "mat_df"
   ]
  },
  {
   "cell_type": "code",
   "execution_count": 97,
   "metadata": {
    "vscode": {
     "languageId": "r"
    }
   },
   "outputs": [
    {
     "data": {
      "image/png": "[encoded data removed]",
      "text/plain": [
       "plot without title"
      ]
     },
     "metadata": {
      "image/png": {
       "height": 420,
       "width": 420
      }
     },
     "output_type": "display_data"
    }
   ],
   "source": [
    "ggplot(data =  mat_df, mapping = aes(x = Var1, y = Var2)) +\n",
    "  geom_tile(aes(fill = Freq), colour = \"white\") +\n",
    "  geom_text(aes(label = sprintf(\"%1.0f\", Freq)), vjust = 1 , size = 17) +\n",
    "  scale_fill_gradient(low = \"blue\", high = \"red\") +\n",
    "  theme_bw() + theme(legend.position = \"none\" , axis.text = element_text(size = rel(2) , color = '#00020e'))"
   ]
  },
  {
   "cell_type": "code",
   "execution_count": 99,
   "metadata": {
    "vscode": {
     "languageId": "r"
    }
   },
   "outputs": [],
   "source": [
    "#spliting the data into test and trining variables \n",
    "X_train <- as.matrix(data.frame(data_train %>% select(-c(target))))\n",
    "y_train  <- as.matrix(data.frame( data_train$target))\n",
    "X_test <- as.matrix(data.frame(data_test %>% select(-c(target))))\n",
    "y_test  <- as.matrix(data.frame( data_test$target))"
   ]
  },
  {
   "cell_type": "code",
   "execution_count": 100,
   "metadata": {
    "vscode": {
     "languageId": "r"
    }
   },
   "outputs": [],
   "source": [
    "#preparing data for ggboost model\n",
    "library(xgboost)\n",
    "dtrain <- xgb.DMatrix(data = X_train, label= y_train)\n",
    "dtest <- xgb.DMatrix(data = X_test, label= y_test)"
   ]
  },
  {
   "cell_type": "code",
   "execution_count": 103,
   "metadata": {
    "vscode": {
     "languageId": "r"
    }
   },
   "outputs": [
    {
     "name": "stdout",
     "output_type": "stream",
     "text": [
      "[1]\ttrain-logloss:0.527015 \n",
      "[2]\ttrain-logloss:0.436951 \n",
      "[3]\ttrain-logloss:0.382243 \n",
      "[4]\ttrain-logloss:0.347767 \n",
      "[5]\ttrain-logloss:0.323999 \n",
      "[6]\ttrain-logloss:0.307619 \n",
      "[7]\ttrain-logloss:0.296218 \n",
      "[8]\ttrain-logloss:0.288938 \n",
      "[9]\ttrain-logloss:0.283263 \n",
      "[10]\ttrain-logloss:0.276073 \n",
      "[11]\ttrain-logloss:0.273161 \n",
      "[12]\ttrain-logloss:0.269299 \n",
      "[13]\ttrain-logloss:0.267241 \n",
      "[14]\ttrain-logloss:0.265476 \n",
      "[15]\ttrain-logloss:0.264126 \n",
      "[16]\ttrain-logloss:0.262592 \n",
      "[17]\ttrain-logloss:0.260534 \n",
      "[18]\ttrain-logloss:0.259686 \n",
      "[19]\ttrain-logloss:0.257198 \n",
      "[20]\ttrain-logloss:0.255665 \n",
      "[21]\ttrain-logloss:0.254487 \n",
      "[22]\ttrain-logloss:0.253345 \n",
      "[23]\ttrain-logloss:0.252751 \n",
      "[24]\ttrain-logloss:0.252129 \n",
      "[25]\ttrain-logloss:0.251448 \n",
      "[26]\ttrain-logloss:0.250480 \n",
      "[27]\ttrain-logloss:0.249343 \n",
      "[28]\ttrain-logloss:0.249071 \n",
      "[29]\ttrain-logloss:0.247302 \n",
      "[30]\ttrain-logloss:0.246742 \n",
      "[31]\ttrain-logloss:0.246400 \n",
      "[32]\ttrain-logloss:0.244911 \n",
      "[33]\ttrain-logloss:0.243446 \n",
      "[34]\ttrain-logloss:0.242155 \n",
      "[35]\ttrain-logloss:0.240677 \n",
      "[36]\ttrain-logloss:0.239735 \n",
      "[37]\ttrain-logloss:0.238729 \n",
      "[38]\ttrain-logloss:0.238232 \n",
      "[39]\ttrain-logloss:0.236876 \n",
      "[40]\ttrain-logloss:0.236056 \n",
      "[41]\ttrain-logloss:0.235680 \n",
      "[42]\ttrain-logloss:0.235174 \n",
      "[43]\ttrain-logloss:0.233844 \n",
      "[44]\ttrain-logloss:0.232976 \n",
      "[45]\ttrain-logloss:0.232421 \n",
      "[46]\ttrain-logloss:0.232110 \n",
      "[47]\ttrain-logloss:0.231908 \n",
      "[48]\ttrain-logloss:0.231368 \n",
      "[49]\ttrain-logloss:0.230975 \n",
      "[50]\ttrain-logloss:0.229943 \n"
     ]
    }
   ],
   "source": [
    "xgb_model <- xgboost(data = dtrain, # the data   \n",
    "                 nround = 50, # max number of boosting iterations\n",
    "                 objective = \"binary:logistic\"  #type of the model to use by default it is regresion\n",
    "                 )"
   ]
  },
  {
   "cell_type": "code",
   "execution_count": 104,
   "metadata": {
    "vscode": {
     "languageId": "r"
    }
   },
   "outputs": [
    {
     "name": "stdout",
     "output_type": "stream",
     "text": [
      "[1] \"test-error= 0.117572958219609\"\n"
     ]
    }
   ],
   "source": [
    "#triying to make predictions\n",
    "pred <- predict(xgb_model, dtest)\n",
    "\n",
    "# get & print the classification error\n",
    "err <- mean(as.numeric(pred > 0.5) != y_test)\n",
    "print(paste(\"test-error=\", err))"
   ]
  },
  {
   "cell_type": "code",
   "execution_count": 111,
   "metadata": {
    "vscode": {
     "languageId": "r"
    }
   },
   "outputs": [
    {
     "name": "stdout",
     "output_type": "stream",
     "text": [
      "[1]\ttrain-logloss:0.599156 \n",
      "Will train until train_logloss hasn't improved in 20 rounds.\n",
      "\n",
      "[2]\ttrain-logloss:0.548275 \n",
      "[3]\ttrain-logloss:0.516188 \n",
      "[4]\ttrain-logloss:0.492379 \n",
      "[5]\ttrain-logloss:0.477803 \n",
      "[6]\ttrain-logloss:0.465405 \n",
      "[7]\ttrain-logloss:0.456783 \n",
      "[8]\ttrain-logloss:0.445308 \n",
      "[9]\ttrain-logloss:0.440239 \n",
      "[10]\ttrain-logloss:0.433461 \n",
      "[11]\ttrain-logloss:0.429517 \n",
      "[12]\ttrain-logloss:0.426526 \n",
      "[13]\ttrain-logloss:0.420874 \n",
      "[14]\ttrain-logloss:0.416753 \n",
      "[15]\ttrain-logloss:0.413795 \n",
      "[16]\ttrain-logloss:0.410739 \n",
      "[17]\ttrain-logloss:0.406911 \n",
      "[18]\ttrain-logloss:0.403555 \n",
      "[19]\ttrain-logloss:0.399665 \n",
      "[20]\ttrain-logloss:0.398683 \n",
      "[21]\ttrain-logloss:0.396879 \n",
      "[22]\ttrain-logloss:0.394068 \n",
      "[23]\ttrain-logloss:0.391720 \n",
      "[24]\ttrain-logloss:0.389467 \n",
      "[25]\ttrain-logloss:0.387125 \n",
      "[26]\ttrain-logloss:0.384963 \n",
      "[27]\ttrain-logloss:0.382973 \n",
      "[28]\ttrain-logloss:0.382079 \n",
      "[29]\ttrain-logloss:0.380885 \n",
      "[30]\ttrain-logloss:0.379098 \n",
      "[31]\ttrain-logloss:0.378491 \n",
      "[32]\ttrain-logloss:0.377305 \n",
      "[33]\ttrain-logloss:0.374348 \n",
      "[34]\ttrain-logloss:0.372420 \n",
      "[35]\ttrain-logloss:0.371701 \n",
      "[36]\ttrain-logloss:0.369533 \n",
      "[37]\ttrain-logloss:0.367309 \n",
      "[38]\ttrain-logloss:0.364991 \n",
      "[39]\ttrain-logloss:0.362079 \n",
      "[40]\ttrain-logloss:0.360654 \n",
      "[41]\ttrain-logloss:0.358796 \n",
      "[42]\ttrain-logloss:0.357552 \n",
      "[43]\ttrain-logloss:0.356563 \n",
      "[44]\ttrain-logloss:0.355301 \n",
      "[45]\ttrain-logloss:0.353719 \n",
      "[46]\ttrain-logloss:0.351898 \n",
      "[47]\ttrain-logloss:0.349592 \n",
      "[48]\ttrain-logloss:0.349135 \n",
      "[49]\ttrain-logloss:0.347328 \n",
      "[50]\ttrain-logloss:0.346518 \n",
      "[51]\ttrain-logloss:0.345789 \n",
      "[52]\ttrain-logloss:0.344884 \n",
      "[53]\ttrain-logloss:0.342958 \n",
      "[54]\ttrain-logloss:0.341400 \n",
      "[55]\ttrain-logloss:0.340022 \n",
      "[56]\ttrain-logloss:0.338624 \n",
      "[57]\ttrain-logloss:0.336594 \n",
      "[58]\ttrain-logloss:0.335158 \n",
      "[59]\ttrain-logloss:0.334369 \n",
      "[60]\ttrain-logloss:0.333270 \n",
      "[61]\ttrain-logloss:0.332559 \n",
      "[62]\ttrain-logloss:0.330428 \n",
      "[63]\ttrain-logloss:0.329959 \n",
      "[64]\ttrain-logloss:0.328273 \n",
      "[65]\ttrain-logloss:0.327181 \n",
      "[66]\ttrain-logloss:0.326022 \n",
      "[67]\ttrain-logloss:0.324681 \n",
      "[68]\ttrain-logloss:0.323575 \n",
      "[69]\ttrain-logloss:0.322680 \n",
      "[70]\ttrain-logloss:0.322145 \n",
      "[71]\ttrain-logloss:0.321304 \n",
      "[72]\ttrain-logloss:0.320410 \n",
      "[73]\ttrain-logloss:0.319725 \n",
      "[74]\ttrain-logloss:0.319030 \n",
      "[75]\ttrain-logloss:0.317748 \n",
      "[76]\ttrain-logloss:0.317116 \n",
      "[77]\ttrain-logloss:0.315880 \n",
      "[78]\ttrain-logloss:0.314701 \n",
      "[79]\ttrain-logloss:0.313533 \n",
      "[80]\ttrain-logloss:0.311956 \n",
      "[81]\ttrain-logloss:0.311059 \n",
      "[82]\ttrain-logloss:0.310404 \n",
      "[83]\ttrain-logloss:0.309638 \n",
      "[84]\ttrain-logloss:0.309112 \n",
      "[85]\ttrain-logloss:0.308035 \n",
      "[86]\ttrain-logloss:0.306636 \n",
      "[87]\ttrain-logloss:0.306005 \n",
      "[88]\ttrain-logloss:0.305329 \n",
      "[89]\ttrain-logloss:0.304397 \n",
      "[90]\ttrain-logloss:0.303714 \n",
      "[91]\ttrain-logloss:0.302865 \n",
      "[92]\ttrain-logloss:0.302364 \n",
      "[93]\ttrain-logloss:0.301915 \n",
      "[94]\ttrain-logloss:0.301112 \n",
      "[95]\ttrain-logloss:0.300225 \n",
      "[96]\ttrain-logloss:0.299428 \n",
      "[97]\ttrain-logloss:0.298986 \n",
      "[98]\ttrain-logloss:0.298811 \n",
      "[99]\ttrain-logloss:0.298649 \n",
      "[100]\ttrain-logloss:0.298163 \n",
      "[101]\ttrain-logloss:0.296894 \n",
      "[102]\ttrain-logloss:0.296155 \n",
      "[103]\ttrain-logloss:0.295940 \n",
      "[104]\ttrain-logloss:0.295616 \n",
      "[105]\ttrain-logloss:0.295081 \n",
      "[106]\ttrain-logloss:0.294862 \n",
      "[107]\ttrain-logloss:0.293804 \n",
      "[108]\ttrain-logloss:0.292897 \n",
      "[109]\ttrain-logloss:0.291460 \n",
      "[110]\ttrain-logloss:0.290734 \n",
      "[111]\ttrain-logloss:0.290367 \n",
      "[112]\ttrain-logloss:0.289373 \n",
      "[113]\ttrain-logloss:0.288712 \n",
      "[114]\ttrain-logloss:0.287458 \n",
      "[115]\ttrain-logloss:0.286447 \n",
      "[116]\ttrain-logloss:0.285063 \n",
      "[117]\ttrain-logloss:0.283825 \n",
      "[118]\ttrain-logloss:0.283261 \n",
      "[119]\ttrain-logloss:0.282705 \n",
      "[120]\ttrain-logloss:0.282328 \n",
      "[121]\ttrain-logloss:0.281262 \n",
      "[122]\ttrain-logloss:0.280322 \n",
      "[123]\ttrain-logloss:0.279942 \n",
      "[124]\ttrain-logloss:0.279100 \n",
      "[125]\ttrain-logloss:0.278661 \n",
      "[126]\ttrain-logloss:0.278166 \n",
      "[127]\ttrain-logloss:0.277640 \n",
      "[128]\ttrain-logloss:0.276720 \n",
      "[129]\ttrain-logloss:0.275985 \n",
      "[130]\ttrain-logloss:0.275583 \n",
      "[131]\ttrain-logloss:0.274506 \n",
      "[132]\ttrain-logloss:0.273540 \n",
      "[133]\ttrain-logloss:0.272735 \n",
      "[134]\ttrain-logloss:0.272286 \n",
      "[135]\ttrain-logloss:0.271801 \n",
      "[136]\ttrain-logloss:0.271564 \n",
      "[137]\ttrain-logloss:0.271337 \n",
      "[138]\ttrain-logloss:0.270889 \n",
      "[139]\ttrain-logloss:0.270419 \n",
      "[140]\ttrain-logloss:0.270092 \n",
      "[141]\ttrain-logloss:0.269223 \n",
      "[142]\ttrain-logloss:0.267992 \n",
      "[143]\ttrain-logloss:0.267164 \n",
      "[144]\ttrain-logloss:0.266374 \n",
      "[145]\ttrain-logloss:0.265227 \n",
      "[146]\ttrain-logloss:0.264302 \n",
      "[147]\ttrain-logloss:0.263834 \n",
      "[148]\ttrain-logloss:0.263165 \n",
      "[149]\ttrain-logloss:0.262447 \n",
      "[150]\ttrain-logloss:0.261830 \n",
      "[151]\ttrain-logloss:0.260900 \n",
      "[152]\ttrain-logloss:0.260589 \n",
      "[153]\ttrain-logloss:0.259966 \n",
      "[154]\ttrain-logloss:0.259761 \n",
      "[155]\ttrain-logloss:0.258831 \n",
      "[156]\ttrain-logloss:0.258177 \n",
      "[157]\ttrain-logloss:0.257822 \n",
      "[158]\ttrain-logloss:0.257308 \n",
      "[159]\ttrain-logloss:0.256981 \n",
      "[160]\ttrain-logloss:0.256019 \n",
      "[161]\ttrain-logloss:0.255244 \n",
      "[162]\ttrain-logloss:0.254749 \n",
      "[163]\ttrain-logloss:0.254250 \n",
      "[164]\ttrain-logloss:0.253899 \n",
      "[165]\ttrain-logloss:0.253317 \n",
      "[166]\ttrain-logloss:0.253040 \n",
      "[167]\ttrain-logloss:0.252277 \n",
      "[168]\ttrain-logloss:0.251898 \n",
      "[169]\ttrain-logloss:0.251197 \n",
      "[170]\ttrain-logloss:0.250767 \n",
      "[171]\ttrain-logloss:0.250335 \n",
      "[172]\ttrain-logloss:0.249767 \n",
      "[173]\ttrain-logloss:0.248905 \n",
      "[174]\ttrain-logloss:0.248256 \n",
      "[175]\ttrain-logloss:0.247721 \n",
      "[176]\ttrain-logloss:0.247405 \n",
      "[177]\ttrain-logloss:0.247134 \n",
      "[178]\ttrain-logloss:0.247000 \n",
      "[179]\ttrain-logloss:0.246862 \n",
      "[180]\ttrain-logloss:0.246725 \n",
      "[181]\ttrain-logloss:0.246687 \n",
      "[182]\ttrain-logloss:0.246666 \n",
      "[183]\ttrain-logloss:0.246059 \n",
      "[184]\ttrain-logloss:0.245340 \n",
      "[185]\ttrain-logloss:0.244966 \n",
      "[186]\ttrain-logloss:0.244482 \n",
      "[187]\ttrain-logloss:0.244043 \n",
      "[188]\ttrain-logloss:0.243426 \n",
      "[189]\ttrain-logloss:0.243208 \n",
      "[190]\ttrain-logloss:0.242356 \n",
      "[191]\ttrain-logloss:0.241993 \n",
      "[192]\ttrain-logloss:0.241667 \n",
      "[193]\ttrain-logloss:0.241608 \n",
      "[194]\ttrain-logloss:0.241140 \n",
      "[195]\ttrain-logloss:0.240686 \n",
      "[196]\ttrain-logloss:0.240460 \n",
      "[197]\ttrain-logloss:0.240249 \n",
      "[198]\ttrain-logloss:0.239644 \n",
      "[199]\ttrain-logloss:0.238932 \n",
      "[200]\ttrain-logloss:0.238439 \n",
      "[201]\ttrain-logloss:0.237764 \n",
      "[202]\ttrain-logloss:0.237009 \n",
      "[203]\ttrain-logloss:0.236730 \n",
      "[204]\ttrain-logloss:0.236188 \n",
      "[205]\ttrain-logloss:0.235735 \n",
      "[206]\ttrain-logloss:0.235085 \n",
      "[207]\ttrain-logloss:0.234434 \n",
      "[208]\ttrain-logloss:0.234099 \n",
      "[209]\ttrain-logloss:0.233650 \n",
      "[210]\ttrain-logloss:0.233275 \n",
      "[211]\ttrain-logloss:0.233066 \n",
      "[212]\ttrain-logloss:0.232731 \n",
      "[213]\ttrain-logloss:0.232064 \n",
      "[214]\ttrain-logloss:0.231348 \n",
      "[215]\ttrain-logloss:0.230598 \n",
      "[216]\ttrain-logloss:0.230260 \n",
      "[217]\ttrain-logloss:0.229859 \n",
      "[218]\ttrain-logloss:0.229071 \n",
      "[219]\ttrain-logloss:0.228342 \n",
      "[220]\ttrain-logloss:0.227588 \n",
      "[221]\ttrain-logloss:0.227099 \n",
      "[222]\ttrain-logloss:0.226404 \n",
      "[223]\ttrain-logloss:0.226241 \n",
      "[224]\ttrain-logloss:0.225547 \n",
      "[225]\ttrain-logloss:0.225098 \n",
      "[226]\ttrain-logloss:0.224644 \n",
      "[227]\ttrain-logloss:0.224164 \n",
      "[228]\ttrain-logloss:0.223689 \n",
      "[229]\ttrain-logloss:0.223194 \n",
      "[230]\ttrain-logloss:0.222557 \n",
      "[231]\ttrain-logloss:0.222243 \n",
      "[232]\ttrain-logloss:0.222088 \n",
      "[233]\ttrain-logloss:0.221573 \n",
      "[234]\ttrain-logloss:0.220914 \n",
      "[235]\ttrain-logloss:0.220723 \n",
      "[236]\ttrain-logloss:0.220495 \n",
      "[237]\ttrain-logloss:0.220234 \n",
      "[238]\ttrain-logloss:0.219700 \n",
      "[239]\ttrain-logloss:0.219384 \n",
      "[240]\ttrain-logloss:0.218867 \n",
      "[241]\ttrain-logloss:0.218323 \n",
      "[242]\ttrain-logloss:0.217628 \n",
      "[243]\ttrain-logloss:0.217116 \n",
      "[244]\ttrain-logloss:0.216622 \n",
      "[245]\ttrain-logloss:0.215975 \n",
      "[246]\ttrain-logloss:0.215234 \n",
      "[247]\ttrain-logloss:0.214876 \n",
      "[248]\ttrain-logloss:0.214699 \n",
      "[249]\ttrain-logloss:0.214219 \n",
      "[250]\ttrain-logloss:0.213781 \n",
      "[251]\ttrain-logloss:0.213566 \n",
      "[252]\ttrain-logloss:0.213436 \n",
      "[253]\ttrain-logloss:0.213258 \n",
      "[254]\ttrain-logloss:0.213043 \n",
      "[255]\ttrain-logloss:0.212916 \n",
      "[256]\ttrain-logloss:0.212801 \n",
      "[257]\ttrain-logloss:0.212267 \n",
      "[258]\ttrain-logloss:0.211937 \n",
      "[259]\ttrain-logloss:0.211589 \n",
      "[260]\ttrain-logloss:0.211331 \n",
      "[261]\ttrain-logloss:0.211094 \n",
      "[262]\ttrain-logloss:0.210565 \n",
      "[263]\ttrain-logloss:0.210326 \n",
      "[264]\ttrain-logloss:0.209959 \n",
      "[265]\ttrain-logloss:0.209746 \n",
      "[266]\ttrain-logloss:0.209370 \n",
      "[267]\ttrain-logloss:0.209175 \n",
      "[268]\ttrain-logloss:0.208891 \n",
      "[269]\ttrain-logloss:0.208438 \n",
      "[270]\ttrain-logloss:0.208095 \n",
      "[271]\ttrain-logloss:0.207808 \n",
      "[272]\ttrain-logloss:0.207490 \n",
      "[273]\ttrain-logloss:0.206980 \n",
      "[274]\ttrain-logloss:0.206715 \n",
      "[275]\ttrain-logloss:0.206569 \n",
      "[276]\ttrain-logloss:0.205985 \n",
      "[277]\ttrain-logloss:0.205561 \n",
      "[278]\ttrain-logloss:0.205107 \n",
      "[279]\ttrain-logloss:0.204812 \n",
      "[280]\ttrain-logloss:0.204569 \n",
      "[281]\ttrain-logloss:0.204452 \n",
      "[282]\ttrain-logloss:0.204385 \n",
      "[283]\ttrain-logloss:0.204098 \n",
      "[284]\ttrain-logloss:0.203658 \n",
      "[285]\ttrain-logloss:0.202937 \n",
      "[286]\ttrain-logloss:0.202515 \n",
      "[287]\ttrain-logloss:0.202033 \n",
      "[288]\ttrain-logloss:0.201382 \n",
      "[289]\ttrain-logloss:0.201031 \n",
      "[290]\ttrain-logloss:0.200843 \n",
      "[291]\ttrain-logloss:0.200687 \n",
      "[292]\ttrain-logloss:0.200322 \n",
      "[293]\ttrain-logloss:0.200218 \n",
      "[294]\ttrain-logloss:0.199969 \n",
      "[295]\ttrain-logloss:0.199897 \n",
      "[296]\ttrain-logloss:0.199572 \n",
      "[297]\ttrain-logloss:0.199540 \n",
      "[298]\ttrain-logloss:0.199054 \n",
      "[299]\ttrain-logloss:0.198733 \n",
      "[300]\ttrain-logloss:0.198592 \n",
      "[1] \"test-error= 0.186857022884737\"\n"
     ]
    }
   ],
   "source": [
    "#trying to tune the parameters so as to obtain a better model\n",
    "# get the number of negative & positive cases in our data\n",
    "negative_cases <- sum(y_train == 0)\n",
    "postive_cases <- sum(y_train == 1)\n",
    "# train a model using our training data\n",
    "model_tuned <- xgboost(data = dtrain, # the data            # the maximum depth of each decision tree\n",
    "                 nround = 300, # number of boosting rounds\n",
    "                 early_stopping_rounds = 20, # if we dont see an improvement in this many rounds, stop\n",
    "                 objective = \"binary:logistic\", # the objective function\n",
    "                 scale_pos_weight = negative_cases/postive_cases, # control for imbalanced classes\n",
    ") # add a regularization term\n",
    "\n",
    "# generate predictions for our held-out testing data\n",
    "pred <- predict(model_tuned, dtest)\n",
    "\n",
    "# get & print the classification error\n",
    "err <- mean(as.numeric(pred > 0.5) != y_test)\n",
    "print(paste(\"test-error=\", err))"
   ]
  },
  {
   "cell_type": "code",
   "execution_count": 112,
   "metadata": {
    "vscode": {
     "languageId": "r"
    }
   },
   "outputs": [
    {
     "data": {
      "image/png": "[encoded data removed]",
      "text/plain": [
       "plot without title"
      ]
     },
     "metadata": {
      "image/png": {
       "height": 420,
       "width": 420
      }
     },
     "output_type": "display_data"
    }
   ],
   "source": [
    "importance_matrix <- xgb.importance( model = model_tuned)\n",
    "\n",
    "# and plot it!\n",
    "xgb.plot.importance(importance_matrix)"
   ]
  },
  {
   "cell_type": "code",
   "execution_count": 175,
   "metadata": {
    "vscode": {
     "languageId": "r"
    }
   },
   "outputs": [
    {
     "name": "stderr",
     "output_type": "stream",
     "text": [
      "The following objects are masked from data_test (pos = 3):\n",
      "\n",
      "    age_of_respondent, cellphone_access, country, education_level,\n",
      "    gender_of_respondent, household_size, job_type, location_type,\n",
      "    marital_status, relationship_with_head, uniqueid, year\n",
      "\n",
      "\n",
      "The following objects are masked from data_test (pos = 4):\n",
      "\n",
      "    age_of_respondent, cellphone_access, country, education_level,\n",
      "    gender_of_respondent, household_size, job_type, location_type,\n",
      "    marital_status, relationship_with_head, uniqueid, year\n",
      "\n",
      "\n",
      "The following objects are masked from data_test (pos = 5):\n",
      "\n",
      "    age_of_respondent, cellphone_access, country, education_level,\n",
      "    gender_of_respondent, household_size, job_type, location_type,\n",
      "    marital_status, relationship_with_head, uniqueid, year\n",
      "\n",
      "\n",
      "The following objects are masked from df (pos = 9):\n",
      "\n",
      "    age_of_respondent, cellphone_access, country, education_level,\n",
      "    gender_of_respondent, household_size, job_type, location_type,\n",
      "    marital_status, relationship_with_head, uniqueid, year\n",
      "\n",
      "\n",
      "The following objects are masked from df (pos = 10):\n",
      "\n",
      "    age_of_respondent, cellphone_access, country, education_level,\n",
      "    gender_of_respondent, household_size, job_type, location_type,\n",
      "    marital_status, relationship_with_head, uniqueid, year\n",
      "\n",
      "\n",
      "The following objects are masked from df (pos = 11):\n",
      "\n",
      "    age_of_respondent, cellphone_access, country, education_level,\n",
      "    gender_of_respondent, household_size, job_type, location_type,\n",
      "    marital_status, relationship_with_head, uniqueid, year\n",
      "\n",
      "\n",
      "The following objects are masked from df (pos = 12):\n",
      "\n",
      "    age_of_respondent, cellphone_access, country, education_level,\n",
      "    gender_of_respondent, household_size, job_type, location_type,\n",
      "    marital_status, relationship_with_head, uniqueid, year\n",
      "\n",
      "\n"
     ]
    }
   ],
   "source": [
    "data_test = read.csv(\"Test.csv\")\n",
    "attach(data_test)"
   ]
  },
  {
   "cell_type": "code",
   "execution_count": 200,
   "metadata": {
    "vscode": {
     "languageId": "r"
    }
   },
   "outputs": [
    {
     "data": {
      "text/html": [
       "10086"
      ],
      "text/latex": [
       "10086"
      ],
      "text/markdown": [
       "10086"
      ],
      "text/plain": [
       "[1] 10086"
      ]
     },
     "metadata": {},
     "output_type": "display_data"
    }
   ],
   "source": [
    "nrow(data_test)"
   ]
  },
  {
   "cell_type": "code",
   "execution_count": 176,
   "metadata": {
    "vscode": {
     "languageId": "r"
    }
   },
   "outputs": [
    {
     "data": {
      "text/html": [
       "<table class=\"dataframe\">\n",
       "<caption>A data.frame: 6 × 12</caption>\n",
       "<thead>\n",
       "\t<tr><th></th><th scope=col>country</th><th scope=col>year</th><th scope=col>uniqueid</th><th scope=col>location_type</th><th scope=col>cellphone_access</th><th scope=col>household_size</th><th scope=col>age_of_respondent</th><th scope=col>gender_of_respondent</th><th scope=col>relationship_with_head</th><th scope=col>marital_status</th><th scope=col>education_level</th><th scope=col>job_type</th></tr>\n",
       "\t<tr><th></th><th scope=col>&lt;chr&gt;</th><th scope=col>&lt;int&gt;</th><th scope=col>&lt;chr&gt;</th><th scope=col>&lt;chr&gt;</th><th scope=col>&lt;chr&gt;</th><th scope=col>&lt;int&gt;</th><th scope=col>&lt;int&gt;</th><th scope=col>&lt;chr&gt;</th><th scope=col>&lt;chr&gt;</th><th scope=col>&lt;chr&gt;</th><th scope=col>&lt;chr&gt;</th><th scope=col>&lt;chr&gt;</th></tr>\n",
       "</thead>\n",
       "<tbody>\n",
       "\t<tr><th scope=row>1</th><td>Kenya</td><td>2018</td><td>uniqueid_6056</td><td>Urban</td><td>Yes</td><td>3</td><td>30</td><td>Male  </td><td>Head of Household</td><td>Married/Living together</td><td>Secondary education            </td><td>Formally employed Government</td></tr>\n",
       "\t<tr><th scope=row>2</th><td>Kenya</td><td>2018</td><td>uniqueid_6060</td><td>Urban</td><td>Yes</td><td>7</td><td>51</td><td>Male  </td><td>Head of Household</td><td>Married/Living together</td><td>Vocational/Specialised training</td><td>Formally employed Private   </td></tr>\n",
       "\t<tr><th scope=row>3</th><td>Kenya</td><td>2018</td><td>uniqueid_6065</td><td>Rural</td><td>No </td><td>3</td><td>77</td><td>Female</td><td>Parent           </td><td>Married/Living together</td><td>No formal education            </td><td>Remittance Dependent        </td></tr>\n",
       "\t<tr><th scope=row>4</th><td>Kenya</td><td>2018</td><td>uniqueid_6072</td><td>Rural</td><td>No </td><td>6</td><td>39</td><td>Female</td><td>Head of Household</td><td>Married/Living together</td><td>Primary education              </td><td>Remittance Dependent        </td></tr>\n",
       "\t<tr><th scope=row>5</th><td>Kenya</td><td>2018</td><td>uniqueid_6073</td><td>Urban</td><td>No </td><td>3</td><td>16</td><td>Male  </td><td>Child            </td><td>Single/Never Married   </td><td>Secondary education            </td><td>Remittance Dependent        </td></tr>\n",
       "\t<tr><th scope=row>6</th><td>Kenya</td><td>2018</td><td>uniqueid_6074</td><td>Rural</td><td>Yes</td><td>4</td><td>25</td><td>Female</td><td>Spouse           </td><td>Married/Living together</td><td>Primary education              </td><td>Self employed               </td></tr>\n",
       "</tbody>\n",
       "</table>\n"
      ],
      "text/latex": [
       "A data.frame: 6 × 12\n",
       "\\begin{tabular}{r|llllllllllll}\n",
       "  & country & year & uniqueid & location\\_type & cellphone\\_access & household\\_size & age\\_of\\_respondent & gender\\_of\\_respondent & relationship\\_with\\_head & marital\\_status & education\\_level & job\\_type\\\\\n",
       "  & <chr> & <int> & <chr> & <chr> & <chr> & <int> & <int> & <chr> & <chr> & <chr> & <chr> & <chr>\\\\\n",
       "\\hline\n",
       "\t1 & Kenya & 2018 & uniqueid\\_6056 & Urban & Yes & 3 & 30 & Male   & Head of Household & Married/Living together & Secondary education             & Formally employed Government\\\\\n",
       "\t2 & Kenya & 2018 & uniqueid\\_6060 & Urban & Yes & 7 & 51 & Male   & Head of Household & Married/Living together & Vocational/Specialised training & Formally employed Private   \\\\\n",
       "\t3 & Kenya & 2018 & uniqueid\\_6065 & Rural & No  & 3 & 77 & Female & Parent            & Married/Living together & No formal education             & Remittance Dependent        \\\\\n",
       "\t4 & Kenya & 2018 & uniqueid\\_6072 & Rural & No  & 6 & 39 & Female & Head of Household & Married/Living together & Primary education               & Remittance Dependent        \\\\\n",
       "\t5 & Kenya & 2018 & uniqueid\\_6073 & Urban & No  & 3 & 16 & Male   & Child             & Single/Never Married    & Secondary education             & Remittance Dependent        \\\\\n",
       "\t6 & Kenya & 2018 & uniqueid\\_6074 & Rural & Yes & 4 & 25 & Female & Spouse            & Married/Living together & Primary education               & Self employed               \\\\\n",
       "\\end{tabular}\n"
      ],
      "text/markdown": [
       "\n",
       "A data.frame: 6 × 12\n",
       "\n",
       "| <!--/--> | country &lt;chr&gt; | year &lt;int&gt; | uniqueid &lt;chr&gt; | location_type &lt;chr&gt; | cellphone_access &lt;chr&gt; | household_size &lt;int&gt; | age_of_respondent &lt;int&gt; | gender_of_respondent &lt;chr&gt; | relationship_with_head &lt;chr&gt; | marital_status &lt;chr&gt; | education_level &lt;chr&gt; | job_type &lt;chr&gt; |\n",
       "|---|---|---|---|---|---|---|---|---|---|---|---|---|\n",
       "| 1 | Kenya | 2018 | uniqueid_6056 | Urban | Yes | 3 | 30 | Male   | Head of Household | Married/Living together | Secondary education             | Formally employed Government |\n",
       "| 2 | Kenya | 2018 | uniqueid_6060 | Urban | Yes | 7 | 51 | Male   | Head of Household | Married/Living together | Vocational/Specialised training | Formally employed Private    |\n",
       "| 3 | Kenya | 2018 | uniqueid_6065 | Rural | No  | 3 | 77 | Female | Parent            | Married/Living together | No formal education             | Remittance Dependent         |\n",
       "| 4 | Kenya | 2018 | uniqueid_6072 | Rural | No  | 6 | 39 | Female | Head of Household | Married/Living together | Primary education               | Remittance Dependent         |\n",
       "| 5 | Kenya | 2018 | uniqueid_6073 | Urban | No  | 3 | 16 | Male   | Child             | Single/Never Married    | Secondary education             | Remittance Dependent         |\n",
       "| 6 | Kenya | 2018 | uniqueid_6074 | Rural | Yes | 4 | 25 | Female | Spouse            | Married/Living together | Primary education               | Self employed                |\n",
       "\n"
      ],
      "text/plain": [
       "  country year uniqueid      location_type cellphone_access household_size\n",
       "1 Kenya   2018 uniqueid_6056 Urban         Yes              3             \n",
       "2 Kenya   2018 uniqueid_6060 Urban         Yes              7             \n",
       "3 Kenya   2018 uniqueid_6065 Rural         No               3             \n",
       "4 Kenya   2018 uniqueid_6072 Rural         No               6             \n",
       "5 Kenya   2018 uniqueid_6073 Urban         No               3             \n",
       "6 Kenya   2018 uniqueid_6074 Rural         Yes              4             \n",
       "  age_of_respondent gender_of_respondent relationship_with_head\n",
       "1 30                Male                 Head of Household     \n",
       "2 51                Male                 Head of Household     \n",
       "3 77                Female               Parent                \n",
       "4 39                Female               Head of Household     \n",
       "5 16                Male                 Child                 \n",
       "6 25                Female               Spouse                \n",
       "  marital_status          education_level                \n",
       "1 Married/Living together Secondary education            \n",
       "2 Married/Living together Vocational/Specialised training\n",
       "3 Married/Living together No formal education            \n",
       "4 Married/Living together Primary education              \n",
       "5 Single/Never Married    Secondary education            \n",
       "6 Married/Living together Primary education              \n",
       "  job_type                    \n",
       "1 Formally employed Government\n",
       "2 Formally employed Private   \n",
       "3 Remittance Dependent        \n",
       "4 Remittance Dependent        \n",
       "5 Remittance Dependent        \n",
       "6 Self employed               "
      ]
     },
     "metadata": {},
     "output_type": "display_data"
    }
   ],
   "source": [
    "head(data_test)"
   ]
  },
  {
   "cell_type": "code",
   "execution_count": 177,
   "metadata": {
    "vscode": {
     "languageId": "r"
    }
   },
   "outputs": [],
   "source": [
    "data_test <- mutate(data_test , location_type_rural = ifelse(location_type == 'Rural', 1,0))\n",
    "data_test <- mutate(data_test , location_type_urban = ifelse(location_type == 'Urban', 1,0))"
   ]
  },
  {
   "cell_type": "code",
   "execution_count": 178,
   "metadata": {
    "vscode": {
     "languageId": "r"
    }
   },
   "outputs": [],
   "source": [
    "data_test <- mutate(data_test , cellphone_access_yes = ifelse(cellphone_access == 'Yes', 1,0))\n",
    "data_test <- mutate(data_test , cellphone_access_no = ifelse(cellphone_access == 'No', 1,0))"
   ]
  },
  {
   "cell_type": "code",
   "execution_count": 179,
   "metadata": {
    "vscode": {
     "languageId": "r"
    }
   },
   "outputs": [],
   "source": [
    "data_test <- mutate(data_test , gender_of_respondent_female = ifelse(gender_of_respondent == 'Female', 1,0))\n",
    "data_test <- mutate(data_test , gender_of_respondent_male = ifelse(gender_of_respondent == 'Male', 1,0))"
   ]
  },
  {
   "cell_type": "code",
   "execution_count": 180,
   "metadata": {
    "vscode": {
     "languageId": "r"
    }
   },
   "outputs": [
    {
     "data": {
      "text/html": [
       "10086"
      ],
      "text/latex": [
       "10086"
      ],
      "text/markdown": [
       "10086"
      ],
      "text/plain": [
       "[1] 10086"
      ]
     },
     "metadata": {},
     "output_type": "display_data"
    }
   ],
   "source": [
    "nrow(data_test)"
   ]
  },
  {
   "cell_type": "code",
   "execution_count": 181,
   "metadata": {
    "vscode": {
     "languageId": "r"
    }
   },
   "outputs": [],
   "source": [
    "data_test$relationship_with_head <- as.numeric(as.factor(relationship_with_head))\n",
    "data_test$marital_status <- as.numeric(as.factor(marital_status))\n",
    "data_test$education_level <- as.numeric(as.factor(education_level))\n",
    "data_test$job_type <- as.numeric(as.factor(job_type))\n"
   ]
  },
  {
   "cell_type": "code",
   "execution_count": 182,
   "metadata": {
    "vscode": {
     "languageId": "r"
    }
   },
   "outputs": [],
   "source": [
    "data_test$country <- as.numeric(as.factor(country))"
   ]
  },
  {
   "cell_type": "code",
   "execution_count": 183,
   "metadata": {
    "vscode": {
     "languageId": "r"
    }
   },
   "outputs": [],
   "source": [
    "unique_id = data_test$uniqueid"
   ]
  },
  {
   "cell_type": "code",
   "execution_count": 185,
   "metadata": {
    "vscode": {
     "languageId": "r"
    }
   },
   "outputs": [],
   "source": [
    "data_test <- data_test %>% select(-c(uniqueid , location_type , cellphone_access\t,gender_of_respondent))"
   ]
  },
  {
   "cell_type": "code",
   "execution_count": 186,
   "metadata": {
    "vscode": {
     "languageId": "r"
    }
   },
   "outputs": [
    {
     "data": {
      "text/html": [
       "<table class=\"dataframe\">\n",
       "<caption>A data.frame: 6 × 14</caption>\n",
       "<thead>\n",
       "\t<tr><th></th><th scope=col>country</th><th scope=col>year</th><th scope=col>household_size</th><th scope=col>age_of_respondent</th><th scope=col>relationship_with_head</th><th scope=col>marital_status</th><th scope=col>education_level</th><th scope=col>job_type</th><th scope=col>location_type_rural</th><th scope=col>location_type_urban</th><th scope=col>cellphone_access_yes</th><th scope=col>cellphone_access_no</th><th scope=col>gender_of_respondent_female</th><th scope=col>gender_of_respondent_male</th></tr>\n",
       "\t<tr><th></th><th scope=col>&lt;dbl&gt;</th><th scope=col>&lt;int&gt;</th><th scope=col>&lt;int&gt;</th><th scope=col>&lt;int&gt;</th><th scope=col>&lt;dbl&gt;</th><th scope=col>&lt;dbl&gt;</th><th scope=col>&lt;dbl&gt;</th><th scope=col>&lt;dbl&gt;</th><th scope=col>&lt;dbl&gt;</th><th scope=col>&lt;dbl&gt;</th><th scope=col>&lt;dbl&gt;</th><th scope=col>&lt;dbl&gt;</th><th scope=col>&lt;dbl&gt;</th><th scope=col>&lt;dbl&gt;</th></tr>\n",
       "</thead>\n",
       "<tbody>\n",
       "\t<tr><th scope=row>1</th><td>1</td><td>2018</td><td>3</td><td>30</td><td>2</td><td>3</td><td>4</td><td> 3</td><td>0</td><td>1</td><td>1</td><td>0</td><td>0</td><td>1</td></tr>\n",
       "\t<tr><th scope=row>2</th><td>1</td><td>2018</td><td>7</td><td>51</td><td>2</td><td>3</td><td>6</td><td> 4</td><td>0</td><td>1</td><td>1</td><td>0</td><td>0</td><td>1</td></tr>\n",
       "\t<tr><th scope=row>3</th><td>1</td><td>2018</td><td>3</td><td>77</td><td>5</td><td>3</td><td>1</td><td> 9</td><td>1</td><td>0</td><td>0</td><td>1</td><td>1</td><td>0</td></tr>\n",
       "\t<tr><th scope=row>4</th><td>1</td><td>2018</td><td>6</td><td>39</td><td>2</td><td>3</td><td>3</td><td> 9</td><td>1</td><td>0</td><td>0</td><td>1</td><td>1</td><td>0</td></tr>\n",
       "\t<tr><th scope=row>5</th><td>1</td><td>2018</td><td>3</td><td>16</td><td>1</td><td>4</td><td>4</td><td> 9</td><td>0</td><td>1</td><td>0</td><td>1</td><td>0</td><td>1</td></tr>\n",
       "\t<tr><th scope=row>6</th><td>1</td><td>2018</td><td>4</td><td>25</td><td>6</td><td>3</td><td>3</td><td>10</td><td>1</td><td>0</td><td>1</td><td>0</td><td>1</td><td>0</td></tr>\n",
       "</tbody>\n",
       "</table>\n"
      ],
      "text/latex": [
       "A data.frame: 6 × 14\n",
       "\\begin{tabular}{r|llllllllllllll}\n",
       "  & country & year & household\\_size & age\\_of\\_respondent & relationship\\_with\\_head & marital\\_status & education\\_level & job\\_type & location\\_type\\_rural & location\\_type\\_urban & cellphone\\_access\\_yes & cellphone\\_access\\_no & gender\\_of\\_respondent\\_female & gender\\_of\\_respondent\\_male\\\\\n",
       "  & <dbl> & <int> & <int> & <int> & <dbl> & <dbl> & <dbl> & <dbl> & <dbl> & <dbl> & <dbl> & <dbl> & <dbl> & <dbl>\\\\\n",
       "\\hline\n",
       "\t1 & 1 & 2018 & 3 & 30 & 2 & 3 & 4 &  3 & 0 & 1 & 1 & 0 & 0 & 1\\\\\n",
       "\t2 & 1 & 2018 & 7 & 51 & 2 & 3 & 6 &  4 & 0 & 1 & 1 & 0 & 0 & 1\\\\\n",
       "\t3 & 1 & 2018 & 3 & 77 & 5 & 3 & 1 &  9 & 1 & 0 & 0 & 1 & 1 & 0\\\\\n",
       "\t4 & 1 & 2018 & 6 & 39 & 2 & 3 & 3 &  9 & 1 & 0 & 0 & 1 & 1 & 0\\\\\n",
       "\t5 & 1 & 2018 & 3 & 16 & 1 & 4 & 4 &  9 & 0 & 1 & 0 & 1 & 0 & 1\\\\\n",
       "\t6 & 1 & 2018 & 4 & 25 & 6 & 3 & 3 & 10 & 1 & 0 & 1 & 0 & 1 & 0\\\\\n",
       "\\end{tabular}\n"
      ],
      "text/markdown": [
       "\n",
       "A data.frame: 6 × 14\n",
       "\n",
       "| <!--/--> | country &lt;dbl&gt; | year &lt;int&gt; | household_size &lt;int&gt; | age_of_respondent &lt;int&gt; | relationship_with_head &lt;dbl&gt; | marital_status &lt;dbl&gt; | education_level &lt;dbl&gt; | job_type &lt;dbl&gt; | location_type_rural &lt;dbl&gt; | location_type_urban &lt;dbl&gt; | cellphone_access_yes &lt;dbl&gt; | cellphone_access_no &lt;dbl&gt; | gender_of_respondent_female &lt;dbl&gt; | gender_of_respondent_male &lt;dbl&gt; |\n",
       "|---|---|---|---|---|---|---|---|---|---|---|---|---|---|---|\n",
       "| 1 | 1 | 2018 | 3 | 30 | 2 | 3 | 4 |  3 | 0 | 1 | 1 | 0 | 0 | 1 |\n",
       "| 2 | 1 | 2018 | 7 | 51 | 2 | 3 | 6 |  4 | 0 | 1 | 1 | 0 | 0 | 1 |\n",
       "| 3 | 1 | 2018 | 3 | 77 | 5 | 3 | 1 |  9 | 1 | 0 | 0 | 1 | 1 | 0 |\n",
       "| 4 | 1 | 2018 | 6 | 39 | 2 | 3 | 3 |  9 | 1 | 0 | 0 | 1 | 1 | 0 |\n",
       "| 5 | 1 | 2018 | 3 | 16 | 1 | 4 | 4 |  9 | 0 | 1 | 0 | 1 | 0 | 1 |\n",
       "| 6 | 1 | 2018 | 4 | 25 | 6 | 3 | 3 | 10 | 1 | 0 | 1 | 0 | 1 | 0 |\n",
       "\n"
      ],
      "text/plain": [
       "  country year household_size age_of_respondent relationship_with_head\n",
       "1 1       2018 3              30                2                     \n",
       "2 1       2018 7              51                2                     \n",
       "3 1       2018 3              77                5                     \n",
       "4 1       2018 6              39                2                     \n",
       "5 1       2018 3              16                1                     \n",
       "6 1       2018 4              25                6                     \n",
       "  marital_status education_level job_type location_type_rural\n",
       "1 3              4                3       0                  \n",
       "2 3              6                4       0                  \n",
       "3 3              1                9       1                  \n",
       "4 3              3                9       1                  \n",
       "5 4              4                9       0                  \n",
       "6 3              3               10       1                  \n",
       "  location_type_urban cellphone_access_yes cellphone_access_no\n",
       "1 1                   1                    0                  \n",
       "2 1                   1                    0                  \n",
       "3 0                   0                    1                  \n",
       "4 0                   0                    1                  \n",
       "5 1                   0                    1                  \n",
       "6 0                   1                    0                  \n",
       "  gender_of_respondent_female gender_of_respondent_male\n",
       "1 0                           1                        \n",
       "2 0                           1                        \n",
       "3 1                           0                        \n",
       "4 1                           0                        \n",
       "5 0                           1                        \n",
       "6 1                           0                        "
      ]
     },
     "metadata": {},
     "output_type": "display_data"
    }
   ],
   "source": [
    "head(data_test)"
   ]
  }
 ],
 "metadata": {
  "kernelspec": {
   "display_name": "R",
   "language": "R",
   "name": "ir"
  },
  "language_info": {
   "codemirror_mode": "r",
   "file_extension": ".r",
   "mimetype": "text/x-r-source",
   "name": "R",
   "pygments_lexer": "r",
   "version": "4.2.2"
  },
  "orig_nbformat": 4
 },
 "nbformat": 4,
 "nbformat_minor": 2
}
