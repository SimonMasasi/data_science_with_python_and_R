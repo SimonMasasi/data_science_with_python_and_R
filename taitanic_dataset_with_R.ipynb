{
 "cells": [
  {
   "cell_type": "code",
   "execution_count": 96,
   "metadata": {
    "vscode": {
     "languageId": "r"
    }
   },
   "outputs": [],
   "source": [
    "#loding necessary libraries for data analysis\n",
    "library(tidyverse)"
   ]
  },
  {
   "cell_type": "code",
   "execution_count": 97,
   "metadata": {
    "vscode": {
     "languageId": "r"
    }
   },
   "outputs": [
    {
     "name": "stderr",
     "output_type": "stream",
     "text": [
      "The following objects are masked from df (pos = 3):\n",
      "\n",
      "    Age, Cabin, Embarked, Fare, Name, Parch, PassengerId, Pclass, Sex,\n",
      "    SibSp, Survived, Ticket\n",
      "\n",
      "\n",
      "The following objects are masked from df (pos = 6):\n",
      "\n",
      "    Age, Cabin, Embarked, Fare, Name, Parch, PassengerId, Pclass, Sex,\n",
      "    SibSp, Survived, Ticket\n",
      "\n",
      "\n"
     ]
    },
    {
     "data": {
      "text/html": [
       "<table class=\"dataframe\">\n",
       "<caption>A data.frame: 3 × 12</caption>\n",
       "<thead>\n",
       "\t<tr><th></th><th scope=col>PassengerId</th><th scope=col>Survived</th><th scope=col>Pclass</th><th scope=col>Name</th><th scope=col>Sex</th><th scope=col>Age</th><th scope=col>SibSp</th><th scope=col>Parch</th><th scope=col>Ticket</th><th scope=col>Fare</th><th scope=col>Cabin</th><th scope=col>Embarked</th></tr>\n",
       "\t<tr><th></th><th scope=col>&lt;int&gt;</th><th scope=col>&lt;int&gt;</th><th scope=col>&lt;int&gt;</th><th scope=col>&lt;chr&gt;</th><th scope=col>&lt;chr&gt;</th><th scope=col>&lt;dbl&gt;</th><th scope=col>&lt;int&gt;</th><th scope=col>&lt;int&gt;</th><th scope=col>&lt;chr&gt;</th><th scope=col>&lt;dbl&gt;</th><th scope=col>&lt;chr&gt;</th><th scope=col>&lt;chr&gt;</th></tr>\n",
       "</thead>\n",
       "<tbody>\n",
       "\t<tr><th scope=row>1</th><td>1</td><td>0</td><td>3</td><td>Braund, Mr. Owen Harris                            </td><td>male  </td><td>22</td><td>1</td><td>0</td><td>A/5 21171       </td><td> 7.2500</td><td>   </td><td>S</td></tr>\n",
       "\t<tr><th scope=row>2</th><td>2</td><td>1</td><td>1</td><td>Cumings, Mrs. John Bradley (Florence Briggs Thayer)</td><td>female</td><td>38</td><td>1</td><td>0</td><td>PC 17599        </td><td>71.2833</td><td>C85</td><td>C</td></tr>\n",
       "\t<tr><th scope=row>3</th><td>3</td><td>1</td><td>3</td><td>Heikkinen, Miss. Laina                             </td><td>female</td><td>26</td><td>0</td><td>0</td><td>STON/O2. 3101282</td><td> 7.9250</td><td>   </td><td>S</td></tr>\n",
       "</tbody>\n",
       "</table>\n"
      ],
      "text/latex": [
       "A data.frame: 3 × 12\n",
       "\\begin{tabular}{r|llllllllllll}\n",
       "  & PassengerId & Survived & Pclass & Name & Sex & Age & SibSp & Parch & Ticket & Fare & Cabin & Embarked\\\\\n",
       "  & <int> & <int> & <int> & <chr> & <chr> & <dbl> & <int> & <int> & <chr> & <dbl> & <chr> & <chr>\\\\\n",
       "\\hline\n",
       "\t1 & 1 & 0 & 3 & Braund, Mr. Owen Harris                             & male   & 22 & 1 & 0 & A/5 21171        &  7.2500 &     & S\\\\\n",
       "\t2 & 2 & 1 & 1 & Cumings, Mrs. John Bradley (Florence Briggs Thayer) & female & 38 & 1 & 0 & PC 17599         & 71.2833 & C85 & C\\\\\n",
       "\t3 & 3 & 1 & 3 & Heikkinen, Miss. Laina                              & female & 26 & 0 & 0 & STON/O2. 3101282 &  7.9250 &     & S\\\\\n",
       "\\end{tabular}\n"
      ],
      "text/markdown": [
       "\n",
       "A data.frame: 3 × 12\n",
       "\n",
       "| <!--/--> | PassengerId &lt;int&gt; | Survived &lt;int&gt; | Pclass &lt;int&gt; | Name &lt;chr&gt; | Sex &lt;chr&gt; | Age &lt;dbl&gt; | SibSp &lt;int&gt; | Parch &lt;int&gt; | Ticket &lt;chr&gt; | Fare &lt;dbl&gt; | Cabin &lt;chr&gt; | Embarked &lt;chr&gt; |\n",
       "|---|---|---|---|---|---|---|---|---|---|---|---|---|\n",
       "| 1 | 1 | 0 | 3 | Braund, Mr. Owen Harris                             | male   | 22 | 1 | 0 | A/5 21171        |  7.2500 | <!----> | S |\n",
       "| 2 | 2 | 1 | 1 | Cumings, Mrs. John Bradley (Florence Briggs Thayer) | female | 38 | 1 | 0 | PC 17599         | 71.2833 | C85 | C |\n",
       "| 3 | 3 | 1 | 3 | Heikkinen, Miss. Laina                              | female | 26 | 0 | 0 | STON/O2. 3101282 |  7.9250 | <!----> | S |\n",
       "\n"
      ],
      "text/plain": [
       "  PassengerId Survived Pclass\n",
       "1 1           0        3     \n",
       "2 2           1        1     \n",
       "3 3           1        3     \n",
       "  Name                                                Sex    Age SibSp Parch\n",
       "1 Braund, Mr. Owen Harris                             male   22  1     0    \n",
       "2 Cumings, Mrs. John Bradley (Florence Briggs Thayer) female 38  1     0    \n",
       "3 Heikkinen, Miss. Laina                              female 26  0     0    \n",
       "  Ticket           Fare    Cabin Embarked\n",
       "1 A/5 21171         7.2500       S       \n",
       "2 PC 17599         71.2833 C85   C       \n",
       "3 STON/O2. 3101282  7.9250       S       "
      ]
     },
     "metadata": {},
     "output_type": "display_data"
    }
   ],
   "source": [
    "#readind the data set in csv format for this case\n",
    "df <- read.csv('train.csv')\n",
    "attach(df)\n",
    "head(df , 3)"
   ]
  },
  {
   "cell_type": "code",
   "execution_count": 98,
   "metadata": {
    "vscode": {
     "languageId": "r"
    }
   },
   "outputs": [],
   "source": [
    "#making blankspace into null values\n",
    "df[df==\"\"] <- NA"
   ]
  },
  {
   "cell_type": "code",
   "execution_count": 99,
   "metadata": {
    "vscode": {
     "languageId": "r"
    }
   },
   "outputs": [
    {
     "data": {
      "text/html": [
       "891"
      ],
      "text/latex": [
       "891"
      ],
      "text/markdown": [
       "891"
      ],
      "text/plain": [
       "[1] 891"
      ]
     },
     "metadata": {},
     "output_type": "display_data"
    }
   ],
   "source": [
    "#getting the number of rows\n",
    "nrow(df)"
   ]
  },
  {
   "cell_type": "code",
   "execution_count": 100,
   "metadata": {
    "vscode": {
     "languageId": "r"
    }
   },
   "outputs": [
    {
     "data": {
      "text/plain": [
       "  PassengerId       Survived          Pclass          Name          \n",
       " Min.   :  1.0   Min.   :0.0000   Min.   :1.000   Length:891        \n",
       " 1st Qu.:223.5   1st Qu.:0.0000   1st Qu.:2.000   Class :character  \n",
       " Median :446.0   Median :0.0000   Median :3.000   Mode  :character  \n",
       " Mean   :446.0   Mean   :0.3838   Mean   :2.309                     \n",
       " 3rd Qu.:668.5   3rd Qu.:1.0000   3rd Qu.:3.000                     \n",
       " Max.   :891.0   Max.   :1.0000   Max.   :3.000                     \n",
       "                                                                    \n",
       "     Sex                 Age            SibSp           Parch       \n",
       " Length:891         Min.   : 0.42   Min.   :0.000   Min.   :0.0000  \n",
       " Class :character   1st Qu.:20.12   1st Qu.:0.000   1st Qu.:0.0000  \n",
       " Mode  :character   Median :28.00   Median :0.000   Median :0.0000  \n",
       "                    Mean   :29.70   Mean   :0.523   Mean   :0.3816  \n",
       "                    3rd Qu.:38.00   3rd Qu.:1.000   3rd Qu.:0.0000  \n",
       "                    Max.   :80.00   Max.   :8.000   Max.   :6.0000  \n",
       "                    NA's   :177                                     \n",
       "    Ticket               Fare           Cabin             Embarked        \n",
       " Length:891         Min.   :  0.00   Length:891         Length:891        \n",
       " Class :character   1st Qu.:  7.91   Class :character   Class :character  \n",
       " Mode  :character   Median : 14.45   Mode  :character   Mode  :character  \n",
       "                    Mean   : 32.20                                        \n",
       "                    3rd Qu.: 31.00                                        \n",
       "                    Max.   :512.33                                        \n",
       "                                                                          "
      ]
     },
     "metadata": {},
     "output_type": "display_data"
    }
   ],
   "source": [
    "#getting summary of the dataset\n",
    "summary(df)"
   ]
  },
  {
   "cell_type": "code",
   "execution_count": 101,
   "metadata": {
    "vscode": {
     "languageId": "r"
    }
   },
   "outputs": [
    {
     "data": {
      "text/html": [
       "<style>\n",
       ".dl-inline {width: auto; margin:0; padding: 0}\n",
       ".dl-inline>dt, .dl-inline>dd {float: none; width: auto; display: inline-block}\n",
       ".dl-inline>dt::after {content: \":\\0020\"; padding-right: .5ex}\n",
       ".dl-inline>dt:not(:first-of-type) {padding-left: .5ex}\n",
       "</style><dl class=dl-inline><dt>PassengerId</dt><dd>0</dd><dt>Survived</dt><dd>0</dd><dt>Pclass</dt><dd>0</dd><dt>Name</dt><dd>0</dd><dt>Sex</dt><dd>0</dd><dt>Age</dt><dd>177</dd><dt>SibSp</dt><dd>0</dd><dt>Parch</dt><dd>0</dd><dt>Ticket</dt><dd>0</dd><dt>Fare</dt><dd>0</dd><dt>Cabin</dt><dd>687</dd><dt>Embarked</dt><dd>2</dd></dl>\n"
      ],
      "text/latex": [
       "\\begin{description*}\n",
       "\\item[PassengerId] 0\n",
       "\\item[Survived] 0\n",
       "\\item[Pclass] 0\n",
       "\\item[Name] 0\n",
       "\\item[Sex] 0\n",
       "\\item[Age] 177\n",
       "\\item[SibSp] 0\n",
       "\\item[Parch] 0\n",
       "\\item[Ticket] 0\n",
       "\\item[Fare] 0\n",
       "\\item[Cabin] 687\n",
       "\\item[Embarked] 2\n",
       "\\end{description*}\n"
      ],
      "text/markdown": [
       "PassengerId\n",
       ":   0Survived\n",
       ":   0Pclass\n",
       ":   0Name\n",
       ":   0Sex\n",
       ":   0Age\n",
       ":   177SibSp\n",
       ":   0Parch\n",
       ":   0Ticket\n",
       ":   0Fare\n",
       ":   0Cabin\n",
       ":   687Embarked\n",
       ":   2\n",
       "\n"
      ],
      "text/plain": [
       "PassengerId    Survived      Pclass        Name         Sex         Age \n",
       "          0           0           0           0           0         177 \n",
       "      SibSp       Parch      Ticket        Fare       Cabin    Embarked \n",
       "          0           0           0           0         687           2 "
      ]
     },
     "metadata": {},
     "output_type": "display_data"
    }
   ],
   "source": [
    "#cheking for null values in the dataset\n",
    "colSums(is.na(df))"
   ]
  },
  {
   "cell_type": "code",
   "execution_count": 102,
   "metadata": {
    "vscode": {
     "languageId": "r"
    }
   },
   "outputs": [],
   "source": [
    "#droping columns with null values that are less than 5\n",
    "df <- df %>% drop_na(Embarked)\n"
   ]
  },
  {
   "cell_type": "code",
   "execution_count": 103,
   "metadata": {
    "vscode": {
     "languageId": "r"
    }
   },
   "outputs": [
    {
     "data": {
      "text/html": [
       "889"
      ],
      "text/latex": [
       "889"
      ],
      "text/markdown": [
       "889"
      ],
      "text/plain": [
       "[1] 889"
      ]
     },
     "metadata": {},
     "output_type": "display_data"
    }
   ],
   "source": [
    "#cheking the number of rows in the dataset\n",
    "nrow(df)"
   ]
  },
  {
   "cell_type": "code",
   "execution_count": 104,
   "metadata": {
    "vscode": {
     "languageId": "r"
    }
   },
   "outputs": [
    {
     "data": {
      "text/html": [
       "<table class=\"dataframe\">\n",
       "<caption>A data.frame: 12 × 1</caption>\n",
       "<thead>\n",
       "\t<tr><th></th><th scope=col>colSums.is.na.df..</th></tr>\n",
       "\t<tr><th></th><th scope=col>&lt;dbl&gt;</th></tr>\n",
       "</thead>\n",
       "<tbody>\n",
       "\t<tr><th scope=row>PassengerId</th><td>  0</td></tr>\n",
       "\t<tr><th scope=row>Survived</th><td>  0</td></tr>\n",
       "\t<tr><th scope=row>Pclass</th><td>  0</td></tr>\n",
       "\t<tr><th scope=row>Name</th><td>  0</td></tr>\n",
       "\t<tr><th scope=row>Sex</th><td>  0</td></tr>\n",
       "\t<tr><th scope=row>Age</th><td>177</td></tr>\n",
       "\t<tr><th scope=row>SibSp</th><td>  0</td></tr>\n",
       "\t<tr><th scope=row>Parch</th><td>  0</td></tr>\n",
       "\t<tr><th scope=row>Ticket</th><td>  0</td></tr>\n",
       "\t<tr><th scope=row>Fare</th><td>  0</td></tr>\n",
       "\t<tr><th scope=row>Cabin</th><td>687</td></tr>\n",
       "\t<tr><th scope=row>Embarked</th><td>  0</td></tr>\n",
       "</tbody>\n",
       "</table>\n"
      ],
      "text/latex": [
       "A data.frame: 12 × 1\n",
       "\\begin{tabular}{r|l}\n",
       "  & colSums.is.na.df..\\\\\n",
       "  & <dbl>\\\\\n",
       "\\hline\n",
       "\tPassengerId &   0\\\\\n",
       "\tSurvived &   0\\\\\n",
       "\tPclass &   0\\\\\n",
       "\tName &   0\\\\\n",
       "\tSex &   0\\\\\n",
       "\tAge & 177\\\\\n",
       "\tSibSp &   0\\\\\n",
       "\tParch &   0\\\\\n",
       "\tTicket &   0\\\\\n",
       "\tFare &   0\\\\\n",
       "\tCabin & 687\\\\\n",
       "\tEmbarked &   0\\\\\n",
       "\\end{tabular}\n"
      ],
      "text/markdown": [
       "\n",
       "A data.frame: 12 × 1\n",
       "\n",
       "| <!--/--> | colSums.is.na.df.. &lt;dbl&gt; |\n",
       "|---|---|\n",
       "| PassengerId |   0 |\n",
       "| Survived |   0 |\n",
       "| Pclass |   0 |\n",
       "| Name |   0 |\n",
       "| Sex |   0 |\n",
       "| Age | 177 |\n",
       "| SibSp |   0 |\n",
       "| Parch |   0 |\n",
       "| Ticket |   0 |\n",
       "| Fare |   0 |\n",
       "| Cabin | 687 |\n",
       "| Embarked |   0 |\n",
       "\n"
      ],
      "text/plain": [
       "            colSums.is.na.df..\n",
       "PassengerId   0               \n",
       "Survived      0               \n",
       "Pclass        0               \n",
       "Name          0               \n",
       "Sex           0               \n",
       "Age         177               \n",
       "SibSp         0               \n",
       "Parch         0               \n",
       "Ticket        0               \n",
       "Fare          0               \n",
       "Cabin       687               \n",
       "Embarked      0               "
      ]
     },
     "metadata": {},
     "output_type": "display_data"
    }
   ],
   "source": [
    "#cheking if null values still exist\n",
    "data.frame( colSums(is.na(df)))"
   ]
  },
  {
   "cell_type": "code",
   "execution_count": 105,
   "metadata": {
    "vscode": {
     "languageId": "r"
    }
   },
   "outputs": [
    {
     "data": {
      "text/html": [
       "<table class=\"dataframe\">\n",
       "<caption>A data.frame: 6 × 8</caption>\n",
       "<thead>\n",
       "\t<tr><th></th><th scope=col>Survived</th><th scope=col>Pclass</th><th scope=col>Sex</th><th scope=col>Age</th><th scope=col>SibSp</th><th scope=col>Parch</th><th scope=col>Fare</th><th scope=col>Embarked</th></tr>\n",
       "\t<tr><th></th><th scope=col>&lt;int&gt;</th><th scope=col>&lt;int&gt;</th><th scope=col>&lt;chr&gt;</th><th scope=col>&lt;dbl&gt;</th><th scope=col>&lt;int&gt;</th><th scope=col>&lt;int&gt;</th><th scope=col>&lt;dbl&gt;</th><th scope=col>&lt;chr&gt;</th></tr>\n",
       "</thead>\n",
       "<tbody>\n",
       "\t<tr><th scope=row>1</th><td>0</td><td>3</td><td>male  </td><td>22</td><td>1</td><td>0</td><td> 7.2500</td><td>S</td></tr>\n",
       "\t<tr><th scope=row>2</th><td>1</td><td>1</td><td>female</td><td>38</td><td>1</td><td>0</td><td>71.2833</td><td>C</td></tr>\n",
       "\t<tr><th scope=row>3</th><td>1</td><td>3</td><td>female</td><td>26</td><td>0</td><td>0</td><td> 7.9250</td><td>S</td></tr>\n",
       "\t<tr><th scope=row>4</th><td>1</td><td>1</td><td>female</td><td>35</td><td>1</td><td>0</td><td>53.1000</td><td>S</td></tr>\n",
       "\t<tr><th scope=row>5</th><td>0</td><td>3</td><td>male  </td><td>35</td><td>0</td><td>0</td><td> 8.0500</td><td>S</td></tr>\n",
       "\t<tr><th scope=row>6</th><td>0</td><td>3</td><td>male  </td><td>NA</td><td>0</td><td>0</td><td> 8.4583</td><td>Q</td></tr>\n",
       "</tbody>\n",
       "</table>\n"
      ],
      "text/latex": [
       "A data.frame: 6 × 8\n",
       "\\begin{tabular}{r|llllllll}\n",
       "  & Survived & Pclass & Sex & Age & SibSp & Parch & Fare & Embarked\\\\\n",
       "  & <int> & <int> & <chr> & <dbl> & <int> & <int> & <dbl> & <chr>\\\\\n",
       "\\hline\n",
       "\t1 & 0 & 3 & male   & 22 & 1 & 0 &  7.2500 & S\\\\\n",
       "\t2 & 1 & 1 & female & 38 & 1 & 0 & 71.2833 & C\\\\\n",
       "\t3 & 1 & 3 & female & 26 & 0 & 0 &  7.9250 & S\\\\\n",
       "\t4 & 1 & 1 & female & 35 & 1 & 0 & 53.1000 & S\\\\\n",
       "\t5 & 0 & 3 & male   & 35 & 0 & 0 &  8.0500 & S\\\\\n",
       "\t6 & 0 & 3 & male   & NA & 0 & 0 &  8.4583 & Q\\\\\n",
       "\\end{tabular}\n"
      ],
      "text/markdown": [
       "\n",
       "A data.frame: 6 × 8\n",
       "\n",
       "| <!--/--> | Survived &lt;int&gt; | Pclass &lt;int&gt; | Sex &lt;chr&gt; | Age &lt;dbl&gt; | SibSp &lt;int&gt; | Parch &lt;int&gt; | Fare &lt;dbl&gt; | Embarked &lt;chr&gt; |\n",
       "|---|---|---|---|---|---|---|---|---|\n",
       "| 1 | 0 | 3 | male   | 22 | 1 | 0 |  7.2500 | S |\n",
       "| 2 | 1 | 1 | female | 38 | 1 | 0 | 71.2833 | C |\n",
       "| 3 | 1 | 3 | female | 26 | 0 | 0 |  7.9250 | S |\n",
       "| 4 | 1 | 1 | female | 35 | 1 | 0 | 53.1000 | S |\n",
       "| 5 | 0 | 3 | male   | 35 | 0 | 0 |  8.0500 | S |\n",
       "| 6 | 0 | 3 | male   | NA | 0 | 0 |  8.4583 | Q |\n",
       "\n"
      ],
      "text/plain": [
       "  Survived Pclass Sex    Age SibSp Parch Fare    Embarked\n",
       "1 0        3      male   22  1     0      7.2500 S       \n",
       "2 1        1      female 38  1     0     71.2833 C       \n",
       "3 1        3      female 26  0     0      7.9250 S       \n",
       "4 1        1      female 35  1     0     53.1000 S       \n",
       "5 0        3      male   35  0     0      8.0500 S       \n",
       "6 0        3      male   NA  0     0      8.4583 Q       "
      ]
     },
     "metadata": {},
     "output_type": "display_data"
    }
   ],
   "source": [
    "#droping columns that wont be needed when porforming data analysis\n",
    "df <- df %>% select(-c(Cabin , Name , Ticket , PassengerId))\n",
    "data_store <- df\n",
    "head(df)"
   ]
  },
  {
   "cell_type": "code",
   "execution_count": 106,
   "metadata": {
    "vscode": {
     "languageId": "r"
    }
   },
   "outputs": [
    {
     "data": {
      "text/html": [
       "<style>\n",
       ".dl-inline {width: auto; margin:0; padding: 0}\n",
       ".dl-inline>dt, .dl-inline>dd {float: none; width: auto; display: inline-block}\n",
       ".dl-inline>dt::after {content: \":\\0020\"; padding-right: .5ex}\n",
       ".dl-inline>dt:not(:first-of-type) {padding-left: .5ex}\n",
       "</style><dl class=dl-inline><dt>Survived</dt><dd>0</dd><dt>Pclass</dt><dd>0</dd><dt>Sex</dt><dd>0</dd><dt>Age</dt><dd>0</dd><dt>SibSp</dt><dd>0</dd><dt>Parch</dt><dd>0</dd><dt>Fare</dt><dd>0</dd><dt>Embarked</dt><dd>0</dd></dl>\n"
      ],
      "text/latex": [
       "\\begin{description*}\n",
       "\\item[Survived] 0\n",
       "\\item[Pclass] 0\n",
       "\\item[Sex] 0\n",
       "\\item[Age] 0\n",
       "\\item[SibSp] 0\n",
       "\\item[Parch] 0\n",
       "\\item[Fare] 0\n",
       "\\item[Embarked] 0\n",
       "\\end{description*}\n"
      ],
      "text/markdown": [
       "Survived\n",
       ":   0Pclass\n",
       ":   0Sex\n",
       ":   0Age\n",
       ":   0SibSp\n",
       ":   0Parch\n",
       ":   0Fare\n",
       ":   0Embarked\n",
       ":   0\n",
       "\n"
      ],
      "text/plain": [
       "Survived   Pclass      Sex      Age    SibSp    Parch     Fare Embarked \n",
       "       0        0        0        0        0        0        0        0 "
      ]
     },
     "metadata": {},
     "output_type": "display_data"
    }
   ],
   "source": [
    "#replacing null values with the median value\n",
    "df$Age[is.na(df$Age)] <- median(df$Age , na.rm = T)\n",
    "\n",
    "colSums(is.na(df))"
   ]
  },
  {
   "cell_type": "code",
   "execution_count": 107,
   "metadata": {
    "vscode": {
     "languageId": "r"
    }
   },
   "outputs": [
    {
     "name": "stdout",
     "output_type": "stream",
     "text": [
      "[1] 28\n"
     ]
    }
   ],
   "source": [
    "#creating a function to chek for the median value\n",
    "getmode <- function(v){\n",
    "    uniq = unique(v)\n",
    "    uniq[which.max(tabulate(match(v , uniq)))]\n",
    "}\n",
    "\n",
    "\n",
    "print(getmode(df$Age))"
   ]
  },
  {
   "cell_type": "code",
   "execution_count": 108,
   "metadata": {
    "vscode": {
     "languageId": "r"
    }
   },
   "outputs": [
    {
     "data": {
      "text/html": [
       "<style>\n",
       ".list-inline {list-style: none; margin:0; padding: 0}\n",
       ".list-inline>li {display: inline-block}\n",
       ".list-inline>li:not(:last-child)::after {content: \"\\00b7\"; padding: 0 .5ex}\n",
       "</style>\n",
       "<ol class=list-inline><li>'Survived'</li><li>'Pclass'</li><li>'Sex'</li><li>'Age'</li><li>'SibSp'</li><li>'Parch'</li><li>'Fare'</li><li>'Embarked'</li></ol>\n"
      ],
      "text/latex": [
       "\\begin{enumerate*}\n",
       "\\item 'Survived'\n",
       "\\item 'Pclass'\n",
       "\\item 'Sex'\n",
       "\\item 'Age'\n",
       "\\item 'SibSp'\n",
       "\\item 'Parch'\n",
       "\\item 'Fare'\n",
       "\\item 'Embarked'\n",
       "\\end{enumerate*}\n"
      ],
      "text/markdown": [
       "1. 'Survived'\n",
       "2. 'Pclass'\n",
       "3. 'Sex'\n",
       "4. 'Age'\n",
       "5. 'SibSp'\n",
       "6. 'Parch'\n",
       "7. 'Fare'\n",
       "8. 'Embarked'\n",
       "\n",
       "\n"
      ],
      "text/plain": [
       "[1] \"Survived\" \"Pclass\"   \"Sex\"      \"Age\"      \"SibSp\"    \"Parch\"    \"Fare\"    \n",
       "[8] \"Embarked\""
      ]
     },
     "metadata": {},
     "output_type": "display_data"
    }
   ],
   "source": [
    "#cheking coloum names\n",
    "\n",
    "colnames(df)"
   ]
  },
  {
   "cell_type": "code",
   "execution_count": 109,
   "metadata": {
    "vscode": {
     "languageId": "r"
    }
   },
   "outputs": [
    {
     "data": {
      "text/html": [
       "<table class=\"dataframe\">\n",
       "<caption>A data.frame: 6 × 8</caption>\n",
       "<thead>\n",
       "\t<tr><th></th><th scope=col>Survived</th><th scope=col>Pclass</th><th scope=col>Sex</th><th scope=col>Age</th><th scope=col>SibSp</th><th scope=col>Parch</th><th scope=col>Fare</th><th scope=col>Embarked</th></tr>\n",
       "\t<tr><th></th><th scope=col>&lt;int&gt;</th><th scope=col>&lt;int&gt;</th><th scope=col>&lt;chr&gt;</th><th scope=col>&lt;dbl&gt;</th><th scope=col>&lt;int&gt;</th><th scope=col>&lt;int&gt;</th><th scope=col>&lt;dbl&gt;</th><th scope=col>&lt;chr&gt;</th></tr>\n",
       "</thead>\n",
       "<tbody>\n",
       "\t<tr><th scope=row>1</th><td>0</td><td>3</td><td>male  </td><td>22</td><td>1</td><td>0</td><td> 7.2500</td><td>S</td></tr>\n",
       "\t<tr><th scope=row>2</th><td>1</td><td>1</td><td>female</td><td>38</td><td>1</td><td>0</td><td>71.2833</td><td>C</td></tr>\n",
       "\t<tr><th scope=row>3</th><td>1</td><td>3</td><td>female</td><td>26</td><td>0</td><td>0</td><td> 7.9250</td><td>S</td></tr>\n",
       "\t<tr><th scope=row>4</th><td>1</td><td>1</td><td>female</td><td>35</td><td>1</td><td>0</td><td>53.1000</td><td>S</td></tr>\n",
       "\t<tr><th scope=row>5</th><td>0</td><td>3</td><td>male  </td><td>35</td><td>0</td><td>0</td><td> 8.0500</td><td>S</td></tr>\n",
       "\t<tr><th scope=row>6</th><td>0</td><td>3</td><td>male  </td><td>28</td><td>0</td><td>0</td><td> 8.4583</td><td>Q</td></tr>\n",
       "</tbody>\n",
       "</table>\n"
      ],
      "text/latex": [
       "A data.frame: 6 × 8\n",
       "\\begin{tabular}{r|llllllll}\n",
       "  & Survived & Pclass & Sex & Age & SibSp & Parch & Fare & Embarked\\\\\n",
       "  & <int> & <int> & <chr> & <dbl> & <int> & <int> & <dbl> & <chr>\\\\\n",
       "\\hline\n",
       "\t1 & 0 & 3 & male   & 22 & 1 & 0 &  7.2500 & S\\\\\n",
       "\t2 & 1 & 1 & female & 38 & 1 & 0 & 71.2833 & C\\\\\n",
       "\t3 & 1 & 3 & female & 26 & 0 & 0 &  7.9250 & S\\\\\n",
       "\t4 & 1 & 1 & female & 35 & 1 & 0 & 53.1000 & S\\\\\n",
       "\t5 & 0 & 3 & male   & 35 & 0 & 0 &  8.0500 & S\\\\\n",
       "\t6 & 0 & 3 & male   & 28 & 0 & 0 &  8.4583 & Q\\\\\n",
       "\\end{tabular}\n"
      ],
      "text/markdown": [
       "\n",
       "A data.frame: 6 × 8\n",
       "\n",
       "| <!--/--> | Survived &lt;int&gt; | Pclass &lt;int&gt; | Sex &lt;chr&gt; | Age &lt;dbl&gt; | SibSp &lt;int&gt; | Parch &lt;int&gt; | Fare &lt;dbl&gt; | Embarked &lt;chr&gt; |\n",
       "|---|---|---|---|---|---|---|---|---|\n",
       "| 1 | 0 | 3 | male   | 22 | 1 | 0 |  7.2500 | S |\n",
       "| 2 | 1 | 1 | female | 38 | 1 | 0 | 71.2833 | C |\n",
       "| 3 | 1 | 3 | female | 26 | 0 | 0 |  7.9250 | S |\n",
       "| 4 | 1 | 1 | female | 35 | 1 | 0 | 53.1000 | S |\n",
       "| 5 | 0 | 3 | male   | 35 | 0 | 0 |  8.0500 | S |\n",
       "| 6 | 0 | 3 | male   | 28 | 0 | 0 |  8.4583 | Q |\n",
       "\n"
      ],
      "text/plain": [
       "  Survived Pclass Sex    Age SibSp Parch Fare    Embarked\n",
       "1 0        3      male   22  1     0      7.2500 S       \n",
       "2 1        1      female 38  1     0     71.2833 C       \n",
       "3 1        3      female 26  0     0      7.9250 S       \n",
       "4 1        1      female 35  1     0     53.1000 S       \n",
       "5 0        3      male   35  0     0      8.0500 S       \n",
       "6 0        3      male   28  0     0      8.4583 Q       "
      ]
     },
     "metadata": {},
     "output_type": "display_data"
    }
   ],
   "source": [
    "head(df)"
   ]
  },
  {
   "cell_type": "code",
   "execution_count": 110,
   "metadata": {
    "vscode": {
     "languageId": "r"
    }
   },
   "outputs": [
    {
     "data": {
      "image/png": "[encoded data removed]",
      "text/plain": [
       "plot without title"
      ]
     },
     "metadata": {
      "image/png": {
       "height": 420,
       "width": 420
      }
     },
     "output_type": "display_data"
    }
   ],
   "source": [
    "ggplot(df, aes(Age)) +\n",
    "  geom_bar(fill = 'blue') +\n",
    "  scale_x_binned() +\n",
    "  labs(title = \"DISTRIBUTION OF AGES\" , x = 'Age bins' , y = 'Count')+\n",
    "  theme_minimal()"
   ]
  },
  {
   "cell_type": "code",
   "execution_count": 111,
   "metadata": {
    "vscode": {
     "languageId": "r"
    }
   },
   "outputs": [
    {
     "data": {
      "image/png": "[encoded data removed]",
      "text/plain": [
       "plot without title"
      ]
     },
     "metadata": {
      "image/png": {
       "height": 420,
       "width": 420
      }
     },
     "output_type": "display_data"
    }
   ],
   "source": [
    "#creating a grouped bar graph \n",
    "ggplot(df, aes(factor(Survived), fill = Sex)) +     \n",
    "  geom_bar(position = 'dodge')+\n",
    "  theme_minimal()+\n",
    "  geom_text(aes(label =after_stat(count)), stat = \"count\", vjust = 0, colour = \"#110420\" , position =  position_dodge(0.9) , size = 7)+\n",
    "  labs(title = \" Ratio of males and females That Survived\" , x = 'Survival class' , y = 'Frequency')+\n",
    "  theme(\n",
    "    plot.title = element_text(size = rel(2)),\n",
    "    axis.title = element_text(size = rel(1.5)),\n",
    "    axis.text = element_text(size = rel(1.5) , color = 'red'),\n",
    "    legend.text = element_text(size = rel(1.2)),\n",
    "    legend.title = element_text(size = rel(1.5)),\n",
    "  )"
   ]
  },
  {
   "cell_type": "code",
   "execution_count": 112,
   "metadata": {
    "vscode": {
     "languageId": "r"
    }
   },
   "outputs": [
    {
     "data": {
      "image/png": "[encoded data removed]",
      "text/plain": [
       "plot without title"
      ]
     },
     "metadata": {
      "image/png": {
       "height": 420,
       "width": 420
      }
     },
     "output_type": "display_data"
    }
   ],
   "source": [
    "#creating a grouped bar graph \n",
    "ggplot(df, aes(factor(Survived), fill = Embarked)) +     \n",
    "  geom_bar(position = 'dodge')+\n",
    "  geom_text(aes(label =after_stat(count)), stat = \"count\", vjust = 0, colour = \"#110420\" , position =  position_dodge(0.9) , size = 7)+\n",
    "  labs(title = \" Ratio of males and females That Survived\" , x = 'Survival class' , y = 'Frequency')+\n",
    "  theme(\n",
    "    plot.title = element_text(size = rel(2)),\n",
    "    axis.title = element_text(size = rel(1.5)),\n",
    "    axis.text = element_text(size = rel(1.5) , color = 'red'),\n",
    "    legend.text = element_text(size = rel(1.2)),\n",
    "    legend.title = element_text(size = rel(1.5)),\n",
    "    plot.background = element_rect(fill = \"white\")\n",
    "  )"
   ]
  },
  {
   "cell_type": "code",
   "execution_count": 113,
   "metadata": {
    "vscode": {
     "languageId": "r"
    }
   },
   "outputs": [
    {
     "data": {
      "image/png": "[encoded data removed]",
      "text/plain": [
       "plot without title"
      ]
     },
     "metadata": {
      "image/png": {
       "height": 420,
       "width": 420
      }
     },
     "output_type": "display_data"
    }
   ],
   "source": [
    "#creating a grouped bar graph \n",
    "ggplot(df, aes(factor(Survived), fill = factor(Pclass))) +     \n",
    "  geom_bar(position = 'dodge')+\n",
    "  theme_minimal()+\n",
    "  geom_text(aes(label =after_stat(count)), stat = \"count\", vjust = 0, colour = \"#110420\" , position =  position_dodge(0.9) , size = 7)+\n",
    "  labs(title = \" Ratio of males and females That Survived\" , x = 'Survival class' , y = 'Frequency')+\n",
    "  theme(\n",
    "    plot.title = element_text(size = rel(2)),\n",
    "    axis.title = element_text(size = rel(1.5)),\n",
    "    axis.text = element_text(size = rel(1.5) , color = 'red'),\n",
    "    legend.text = element_text(size = rel(1.2)),\n",
    "    legend.title = element_text(size = rel(1.5)),\n",
    "    plot.background = element_rect(fill = \"white\")\n",
    "  )+\n",
    "  guides(fill = guide_legend(title = \"tiket class\"))"
   ]
  },
  {
   "cell_type": "code",
   "execution_count": 114,
   "metadata": {
    "vscode": {
     "languageId": "r"
    }
   },
   "outputs": [
    {
     "data": {
      "text/html": [
       "<style>\n",
       ".list-inline {list-style: none; margin:0; padding: 0}\n",
       ".list-inline>li {display: inline-block}\n",
       ".list-inline>li:not(:last-child)::after {content: \"\\00b7\"; padding: 0 .5ex}\n",
       "</style>\n",
       "<ol class=list-inline><li>'S'</li><li>'C'</li><li>'Q'</li><li>''</li></ol>\n"
      ],
      "text/latex": [
       "\\begin{enumerate*}\n",
       "\\item 'S'\n",
       "\\item 'C'\n",
       "\\item 'Q'\n",
       "\\item ''\n",
       "\\end{enumerate*}\n"
      ],
      "text/markdown": [
       "1. 'S'\n",
       "2. 'C'\n",
       "3. 'Q'\n",
       "4. ''\n",
       "\n",
       "\n"
      ],
      "text/plain": [
       "[1] \"S\" \"C\" \"Q\" \"\" "
      ]
     },
     "metadata": {},
     "output_type": "display_data"
    }
   ],
   "source": [
    "unique(Embarked)"
   ]
  },
  {
   "cell_type": "code",
   "execution_count": 115,
   "metadata": {
    "vscode": {
     "languageId": "r"
    }
   },
   "outputs": [
    {
     "data": {
      "text/html": [
       "<table class=\"dataframe\">\n",
       "<caption>A data.frame: 6 × 11</caption>\n",
       "<thead>\n",
       "\t<tr><th></th><th scope=col>Survived</th><th scope=col>Pclass</th><th scope=col>Age</th><th scope=col>SibSp</th><th scope=col>Parch</th><th scope=col>Fare</th><th scope=col>sex_female</th><th scope=col>sex_male</th><th scope=col>Ebarked_s</th><th scope=col>Ebarked_c</th><th scope=col>Ebarked_q</th></tr>\n",
       "\t<tr><th></th><th scope=col>&lt;int&gt;</th><th scope=col>&lt;int&gt;</th><th scope=col>&lt;dbl&gt;</th><th scope=col>&lt;int&gt;</th><th scope=col>&lt;int&gt;</th><th scope=col>&lt;dbl&gt;</th><th scope=col>&lt;dbl&gt;</th><th scope=col>&lt;dbl&gt;</th><th scope=col>&lt;dbl&gt;</th><th scope=col>&lt;dbl&gt;</th><th scope=col>&lt;dbl&gt;</th></tr>\n",
       "</thead>\n",
       "<tbody>\n",
       "\t<tr><th scope=row>1</th><td>0</td><td>3</td><td>22</td><td>1</td><td>0</td><td> 7.2500</td><td>0</td><td>1</td><td>1</td><td>0</td><td>0</td></tr>\n",
       "\t<tr><th scope=row>2</th><td>1</td><td>1</td><td>38</td><td>1</td><td>0</td><td>71.2833</td><td>1</td><td>0</td><td>0</td><td>1</td><td>0</td></tr>\n",
       "\t<tr><th scope=row>3</th><td>1</td><td>3</td><td>26</td><td>0</td><td>0</td><td> 7.9250</td><td>1</td><td>0</td><td>1</td><td>0</td><td>0</td></tr>\n",
       "\t<tr><th scope=row>4</th><td>1</td><td>1</td><td>35</td><td>1</td><td>0</td><td>53.1000</td><td>1</td><td>0</td><td>1</td><td>0</td><td>0</td></tr>\n",
       "\t<tr><th scope=row>5</th><td>0</td><td>3</td><td>35</td><td>0</td><td>0</td><td> 8.0500</td><td>0</td><td>1</td><td>1</td><td>0</td><td>0</td></tr>\n",
       "\t<tr><th scope=row>6</th><td>0</td><td>3</td><td>28</td><td>0</td><td>0</td><td> 8.4583</td><td>0</td><td>1</td><td>0</td><td>0</td><td>1</td></tr>\n",
       "</tbody>\n",
       "</table>\n"
      ],
      "text/latex": [
       "A data.frame: 6 × 11\n",
       "\\begin{tabular}{r|lllllllllll}\n",
       "  & Survived & Pclass & Age & SibSp & Parch & Fare & sex\\_female & sex\\_male & Ebarked\\_s & Ebarked\\_c & Ebarked\\_q\\\\\n",
       "  & <int> & <int> & <dbl> & <int> & <int> & <dbl> & <dbl> & <dbl> & <dbl> & <dbl> & <dbl>\\\\\n",
       "\\hline\n",
       "\t1 & 0 & 3 & 22 & 1 & 0 &  7.2500 & 0 & 1 & 1 & 0 & 0\\\\\n",
       "\t2 & 1 & 1 & 38 & 1 & 0 & 71.2833 & 1 & 0 & 0 & 1 & 0\\\\\n",
       "\t3 & 1 & 3 & 26 & 0 & 0 &  7.9250 & 1 & 0 & 1 & 0 & 0\\\\\n",
       "\t4 & 1 & 1 & 35 & 1 & 0 & 53.1000 & 1 & 0 & 1 & 0 & 0\\\\\n",
       "\t5 & 0 & 3 & 35 & 0 & 0 &  8.0500 & 0 & 1 & 1 & 0 & 0\\\\\n",
       "\t6 & 0 & 3 & 28 & 0 & 0 &  8.4583 & 0 & 1 & 0 & 0 & 1\\\\\n",
       "\\end{tabular}\n"
      ],
      "text/markdown": [
       "\n",
       "A data.frame: 6 × 11\n",
       "\n",
       "| <!--/--> | Survived &lt;int&gt; | Pclass &lt;int&gt; | Age &lt;dbl&gt; | SibSp &lt;int&gt; | Parch &lt;int&gt; | Fare &lt;dbl&gt; | sex_female &lt;dbl&gt; | sex_male &lt;dbl&gt; | Ebarked_s &lt;dbl&gt; | Ebarked_c &lt;dbl&gt; | Ebarked_q &lt;dbl&gt; |\n",
       "|---|---|---|---|---|---|---|---|---|---|---|---|\n",
       "| 1 | 0 | 3 | 22 | 1 | 0 |  7.2500 | 0 | 1 | 1 | 0 | 0 |\n",
       "| 2 | 1 | 1 | 38 | 1 | 0 | 71.2833 | 1 | 0 | 0 | 1 | 0 |\n",
       "| 3 | 1 | 3 | 26 | 0 | 0 |  7.9250 | 1 | 0 | 1 | 0 | 0 |\n",
       "| 4 | 1 | 1 | 35 | 1 | 0 | 53.1000 | 1 | 0 | 1 | 0 | 0 |\n",
       "| 5 | 0 | 3 | 35 | 0 | 0 |  8.0500 | 0 | 1 | 1 | 0 | 0 |\n",
       "| 6 | 0 | 3 | 28 | 0 | 0 |  8.4583 | 0 | 1 | 0 | 0 | 1 |\n",
       "\n"
      ],
      "text/plain": [
       "  Survived Pclass Age SibSp Parch Fare    sex_female sex_male Ebarked_s\n",
       "1 0        3      22  1     0      7.2500 0          1        1        \n",
       "2 1        1      38  1     0     71.2833 1          0        0        \n",
       "3 1        3      26  0     0      7.9250 1          0        1        \n",
       "4 1        1      35  1     0     53.1000 1          0        1        \n",
       "5 0        3      35  0     0      8.0500 0          1        1        \n",
       "6 0        3      28  0     0      8.4583 0          1        0        \n",
       "  Ebarked_c Ebarked_q\n",
       "1 0         0        \n",
       "2 1         0        \n",
       "3 0         0        \n",
       "4 0         0        \n",
       "5 0         0        \n",
       "6 0         1        "
      ]
     },
     "metadata": {},
     "output_type": "display_data"
    }
   ],
   "source": [
    "#Perform onehot encording\n",
    "df <- mutate(df , sex_female = ifelse(Sex == 'female', 1,0))\n",
    "df <- mutate(df , sex_male = ifelse(Sex == 'male', 1,0))\n",
    "df <- mutate(df , Ebarked_s = ifelse(Embarked == 'S', 1,0))\n",
    "df <- mutate(df , Ebarked_c = ifelse(Embarked == 'C', 1,0))\n",
    "df <- mutate(df , Ebarked_q = ifelse(Embarked == 'Q', 1,0))\n",
    "\n",
    "df <- df %>% select(-c(Sex , Embarked))\n",
    "head(df)\n"
   ]
  },
  {
   "cell_type": "code",
   "execution_count": 116,
   "metadata": {
    "vscode": {
     "languageId": "r"
    }
   },
   "outputs": [
    {
     "data": {
      "text/html": [
       "<style>\n",
       ".list-inline {list-style: none; margin:0; padding: 0}\n",
       ".list-inline>li {display: inline-block}\n",
       ".list-inline>li:not(:last-child)::after {content: \"\\00b7\"; padding: 0 .5ex}\n",
       "</style>\n",
       "<ol class=list-inline><li>'Survived'</li><li>'Pclass'</li><li>'Age'</li><li>'SibSp'</li><li>'Parch'</li><li>'Fare'</li><li>'sex_female'</li><li>'sex_male'</li><li>'Ebarked_s'</li><li>'Ebarked_c'</li><li>'Ebarked_q'</li></ol>\n"
      ],
      "text/latex": [
       "\\begin{enumerate*}\n",
       "\\item 'Survived'\n",
       "\\item 'Pclass'\n",
       "\\item 'Age'\n",
       "\\item 'SibSp'\n",
       "\\item 'Parch'\n",
       "\\item 'Fare'\n",
       "\\item 'sex\\_female'\n",
       "\\item 'sex\\_male'\n",
       "\\item 'Ebarked\\_s'\n",
       "\\item 'Ebarked\\_c'\n",
       "\\item 'Ebarked\\_q'\n",
       "\\end{enumerate*}\n"
      ],
      "text/markdown": [
       "1. 'Survived'\n",
       "2. 'Pclass'\n",
       "3. 'Age'\n",
       "4. 'SibSp'\n",
       "5. 'Parch'\n",
       "6. 'Fare'\n",
       "7. 'sex_female'\n",
       "8. 'sex_male'\n",
       "9. 'Ebarked_s'\n",
       "10. 'Ebarked_c'\n",
       "11. 'Ebarked_q'\n",
       "\n",
       "\n"
      ],
      "text/plain": [
       " [1] \"Survived\"   \"Pclass\"     \"Age\"        \"SibSp\"      \"Parch\"     \n",
       " [6] \"Fare\"       \"sex_female\" \"sex_male\"   \"Ebarked_s\"  \"Ebarked_c\" \n",
       "[11] \"Ebarked_q\" "
      ]
     },
     "metadata": {},
     "output_type": "display_data"
    }
   ],
   "source": [
    "colnames(df)"
   ]
  },
  {
   "cell_type": "code",
   "execution_count": 117,
   "metadata": {
    "vscode": {
     "languageId": "r"
    }
   },
   "outputs": [],
   "source": [
    "set.seed(1)\n",
    "\n",
    "#use 70% of dataset as training set and 30% as test set\n",
    "sample <- sample(c(TRUE, FALSE), nrow(df), replace=TRUE, prob=c(0.8,0.2))\n",
    "data_train  <- df[sample, ]\n",
    "data_test   <- df[!sample, ]\n"
   ]
  },
  {
   "cell_type": "code",
   "execution_count": 118,
   "metadata": {
    "vscode": {
     "languageId": "r"
    }
   },
   "outputs": [
    {
     "data": {
      "text/plain": [
       "\n",
       "        0         1 \n",
       "0.6151685 0.3848315 "
      ]
     },
     "metadata": {},
     "output_type": "display_data"
    }
   ],
   "source": [
    "#cheking  probabilities of survival in data_train\n",
    "prop.table(table(data_train$Survived))"
   ]
  },
  {
   "cell_type": "code",
   "execution_count": 119,
   "metadata": {
    "vscode": {
     "languageId": "r"
    }
   },
   "outputs": [
    {
     "data": {
      "text/plain": [
       "\n",
       "        0         1 \n",
       "0.6271186 0.3728814 "
      ]
     },
     "metadata": {},
     "output_type": "display_data"
    }
   ],
   "source": [
    "#cheking  probabilities of survival in data_test\n",
    "prop.table(table(data_test$Survived))"
   ]
  },
  {
   "cell_type": "code",
   "execution_count": 120,
   "metadata": {
    "vscode": {
     "languageId": "r"
    }
   },
   "outputs": [],
   "source": [
    "#spliting the data into test and trining variables \n",
    "X_train <- data.frame(data_train %>% select(-c(Survived)))\n",
    "y_train  <- data.frame( data_train$Survived)\n",
    "X_test <- data.frame(data_test %>% select(-c(Survived)))\n",
    "y_test  <- data.frame( data_test$Survived)\n"
   ]
  },
  {
   "cell_type": "code",
   "execution_count": 121,
   "metadata": {
    "vscode": {
     "languageId": "r"
    }
   },
   "outputs": [
    {
     "data": {
      "image/png": "[encoded data removed]",
      "text/plain": [
       "plot without title"
      ]
     },
     "metadata": {
      "image/png": {
       "height": 420,
       "width": 420
      }
     },
     "output_type": "display_data"
    }
   ],
   "source": [
    "#fiting a model with a clasification decision trees\n",
    "library(rpart)\n",
    "library(rpart.plot)\n",
    "\n",
    "model_fit <- rpart(Survived~. , data = data_train , method = 'class')\n",
    "rpart.plot(model_fit , extra = 106)\n"
   ]
  },
  {
   "cell_type": "code",
   "execution_count": 122,
   "metadata": {
    "vscode": {
     "languageId": "r"
    }
   },
   "outputs": [
    {
     "data": {
      "text/plain": [
       "   predictions\n",
       "      0   1\n",
       "  0 104   7\n",
       "  1  26  40"
      ]
     },
     "metadata": {},
     "output_type": "display_data"
    }
   ],
   "source": [
    "predictions <- predict(model_fit , data_test , type = 'class')\n",
    "table_mat <- table(data_test$Survived , predictions)\n",
    "table_mat"
   ]
  },
  {
   "cell_type": "code",
   "execution_count": 123,
   "metadata": {
    "vscode": {
     "languageId": "r"
    }
   },
   "outputs": [
    {
     "data": {
      "text/html": [
       "<table class=\"dataframe\">\n",
       "<caption>A tibble: 4 × 3</caption>\n",
       "<thead>\n",
       "\t<tr><th scope=col>Var1</th><th scope=col>predictions</th><th scope=col>Freq</th></tr>\n",
       "\t<tr><th scope=col>&lt;fct&gt;</th><th scope=col>&lt;fct&gt;</th><th scope=col>&lt;int&gt;</th></tr>\n",
       "</thead>\n",
       "<tbody>\n",
       "\t<tr><td>0</td><td>0</td><td>104</td></tr>\n",
       "\t<tr><td>1</td><td>0</td><td> 26</td></tr>\n",
       "\t<tr><td>0</td><td>1</td><td>  7</td></tr>\n",
       "\t<tr><td>1</td><td>1</td><td> 40</td></tr>\n",
       "</tbody>\n",
       "</table>\n"
      ],
      "text/latex": [
       "A tibble: 4 × 3\n",
       "\\begin{tabular}{lll}\n",
       " Var1 & predictions & Freq\\\\\n",
       " <fct> & <fct> & <int>\\\\\n",
       "\\hline\n",
       "\t 0 & 0 & 104\\\\\n",
       "\t 1 & 0 &  26\\\\\n",
       "\t 0 & 1 &   7\\\\\n",
       "\t 1 & 1 &  40\\\\\n",
       "\\end{tabular}\n"
      ],
      "text/markdown": [
       "\n",
       "A tibble: 4 × 3\n",
       "\n",
       "| Var1 &lt;fct&gt; | predictions &lt;fct&gt; | Freq &lt;int&gt; |\n",
       "|---|---|---|\n",
       "| 0 | 0 | 104 |\n",
       "| 1 | 0 |  26 |\n",
       "| 0 | 1 |   7 |\n",
       "| 1 | 1 |  40 |\n",
       "\n"
      ],
      "text/plain": [
       "  Var1 predictions Freq\n",
       "1 0    0           104 \n",
       "2 1    0            26 \n",
       "3 0    1             7 \n",
       "4 1    1            40 "
      ]
     },
     "metadata": {},
     "output_type": "display_data"
    }
   ],
   "source": [
    "mat_df <-  as_tibble(data.frame(table_mat ))\n",
    "mat_df"
   ]
  },
  {
   "cell_type": "code",
   "execution_count": 124,
   "metadata": {
    "vscode": {
     "languageId": "r"
    }
   },
   "outputs": [
    {
     "data": {
      "image/png": "[encoded data removed]",
      "text/plain": [
       "plot without title"
      ]
     },
     "metadata": {
      "image/png": {
       "height": 420,
       "width": 420
      }
     },
     "output_type": "display_data"
    }
   ],
   "source": [
    "library(ggplot2)\n",
    "ggplot(data =  mat_df, mapping = aes(x = Var1, y = predictions)) +\n",
    "  geom_tile(aes(fill = Freq), colour = \"white\") +\n",
    "  geom_text(aes(label = sprintf(\"%1.0f\", Freq)), vjust = 1 , size = 17) +\n",
    "  scale_fill_gradient(low = \"blue\", high = \"red\") +\n",
    "  theme_bw() + theme(legend.position = \"none\" , axis.text = element_text(size = rel(2) , color = '#00020e'))"
   ]
  },
  {
   "cell_type": "code",
   "execution_count": 125,
   "metadata": {
    "vscode": {
     "languageId": "r"
    }
   },
   "outputs": [
    {
     "data": {
      "text/html": [
       "0.813559322033898"
      ],
      "text/latex": [
       "0.813559322033898"
      ],
      "text/markdown": [
       "0.813559322033898"
      ],
      "text/plain": [
       "[1] 0.8135593"
      ]
     },
     "metadata": {},
     "output_type": "display_data"
    }
   ],
   "source": [
    "accuracy_Test <- sum(diag(table_mat)) / sum(table_mat)\n",
    "\n",
    "accuracy_Test"
   ]
  },
  {
   "cell_type": "code",
   "execution_count": 126,
   "metadata": {
    "vscode": {
     "languageId": "r"
    }
   },
   "outputs": [
    {
     "data": {
      "text/html": [
       "0.819209039548023"
      ],
      "text/latex": [
       "0.819209039548023"
      ],
      "text/markdown": [
       "0.819209039548023"
      ],
      "text/plain": [
       "[1] 0.819209"
      ]
     },
     "metadata": {},
     "output_type": "display_data"
    }
   ],
   "source": [
    "#paremeter turning \n",
    "accuracy_tune <- function(model_fit) {\n",
    "    predictions <- predict(model_fit, data_test, type = 'class')\n",
    "    table_mat <- table(data_test$Survived, predictions)\n",
    "    accuracy_Test <- sum(diag(table_mat)) / sum(table_mat)\n",
    "    accuracy_Test\n",
    "}\n",
    "\n",
    "control <- rpart.control(minsplit = 1,\n",
    "    minbucket = round(1 / 3),\n",
    "    maxdepth = 3,\n",
    "    cp = 0)\n",
    "tune_fit <- rpart(Survived~., data = data_train, method = 'class', control = control)\n",
    "accuracy_tune(tune_fit)\n"
   ]
  },
  {
   "cell_type": "code",
   "execution_count": 127,
   "metadata": {
    "vscode": {
     "languageId": "r"
    }
   },
   "outputs": [
    {
     "name": "stdout",
     "output_type": "stream",
     "text": [
      "[1] \"0.785 minisplit =  1 maxdepth =  1 minibucket = 1\"\n",
      "[1] \"0.797 minisplit =  1 maxdepth =  2 minibucket = 1\"\n",
      "[1] \"0.819 minisplit =  1 maxdepth =  3 minibucket = 1\"\n",
      "[1] \"0.825 minisplit =  1 maxdepth =  3 minibucket = 5\"\n",
      "[1] \"0.836 minisplit =  1 maxdepth =  8 minibucket = 8\"\n"
     ]
    }
   ],
   "source": [
    "#parameter turning\n",
    "previous_accuracy <- 0\n",
    "for (x in 1:10) {\n",
    "  for(y in 1:30){\n",
    "    for(z in 1:10){\n",
    "        control <- rpart.control(minsplit = x,\n",
    "        minbucket = round(z / 3),\n",
    "        maxdepth = y,\n",
    "        cp = 0)\n",
    "        tune_fit <- rpart(Survived~., data = data_train, method = 'class', control = control)\n",
    "        accuracy <- accuracy_tune(tune_fit)\n",
    "        if(accuracy > previous_accuracy){\n",
    "            print(paste(round(accuracy, 3) , 'minisplit = ' , x , 'maxdepth = ' , y , 'minibucket =' , z))\n",
    "            previous_accuracy <- accuracy\n",
    "        }   \n",
    "    }\n",
    "  }\n",
    "}"
   ]
  },
  {
   "cell_type": "code",
   "execution_count": 128,
   "metadata": {
    "vscode": {
     "languageId": "r"
    }
   },
   "outputs": [
    {
     "data": {
      "text/html": [
       "0.836158192090395"
      ],
      "text/latex": [
       "0.836158192090395"
      ],
      "text/markdown": [
       "0.836158192090395"
      ],
      "text/plain": [
       "[1] 0.8361582"
      ]
     },
     "metadata": {},
     "output_type": "display_data"
    }
   ],
   "source": [
    "control <- rpart.control(minsplit = 1,\n",
    "    minbucket = round(8 / 3),\n",
    "    maxdepth = 8,\n",
    "    cp = 0)\n",
    "model_fit <- rpart(Survived~., data = data_train, method = 'class', control = control)\n",
    "accuracy_tune(model_fit)"
   ]
  },
  {
   "cell_type": "code",
   "execution_count": 129,
   "metadata": {
    "vscode": {
     "languageId": "r"
    }
   },
   "outputs": [
    {
     "data": {
      "text/html": [
       "<table class=\"dataframe\">\n",
       "<caption>A data.frame: 6 × 1</caption>\n",
       "<thead>\n",
       "\t<tr><th></th><th scope=col>pred</th></tr>\n",
       "\t<tr><th></th><th scope=col>&lt;fct&gt;</th></tr>\n",
       "</thead>\n",
       "<tbody>\n",
       "\t<tr><th scope=row>4</th><td>1</td></tr>\n",
       "\t<tr><th scope=row>6</th><td>0</td></tr>\n",
       "\t<tr><th scope=row>7</th><td>0</td></tr>\n",
       "\t<tr><th scope=row>18</th><td>0</td></tr>\n",
       "\t<tr><th scope=row>21</th><td>0</td></tr>\n",
       "\t<tr><th scope=row>29</th><td>1</td></tr>\n",
       "</tbody>\n",
       "</table>\n"
      ],
      "text/latex": [
       "A data.frame: 6 × 1\n",
       "\\begin{tabular}{r|l}\n",
       "  & pred\\\\\n",
       "  & <fct>\\\\\n",
       "\\hline\n",
       "\t4 & 1\\\\\n",
       "\t6 & 0\\\\\n",
       "\t7 & 0\\\\\n",
       "\t18 & 0\\\\\n",
       "\t21 & 0\\\\\n",
       "\t29 & 1\\\\\n",
       "\\end{tabular}\n"
      ],
      "text/markdown": [
       "\n",
       "A data.frame: 6 × 1\n",
       "\n",
       "| <!--/--> | pred &lt;fct&gt; |\n",
       "|---|---|\n",
       "| 4 | 1 |\n",
       "| 6 | 0 |\n",
       "| 7 | 0 |\n",
       "| 18 | 0 |\n",
       "| 21 | 0 |\n",
       "| 29 | 1 |\n",
       "\n"
      ],
      "text/plain": [
       "   pred\n",
       "4  1   \n",
       "6  0   \n",
       "7  0   \n",
       "18 0   \n",
       "21 0   \n",
       "29 1   "
      ]
     },
     "metadata": {},
     "output_type": "display_data"
    }
   ],
   "source": [
    "# getting predictions\n",
    "y_pre <- data.frame(predict(model_fit , X_test , type = 'class'))\n",
    "\n",
    "colnames(y_pre) <- c('pred')\n",
    "\n",
    "head(y_pre)\n"
   ]
  },
  {
   "cell_type": "code",
   "execution_count": 130,
   "metadata": {
    "vscode": {
     "languageId": "r"
    }
   },
   "outputs": [
    {
     "data": {
      "text/plain": [
       "   \n",
       "      0   1\n",
       "  0 104   7\n",
       "  1  22  44"
      ]
     },
     "metadata": {},
     "output_type": "display_data"
    }
   ],
   "source": [
    "table_mat <- table(data_test$Survived , y_pre$pred)\n",
    "table_mat"
   ]
  },
  {
   "cell_type": "code",
   "execution_count": 131,
   "metadata": {
    "vscode": {
     "languageId": "r"
    }
   },
   "outputs": [
    {
     "data": {
      "text/html": [
       "0.836158192090395"
      ],
      "text/latex": [
       "0.836158192090395"
      ],
      "text/markdown": [
       "0.836158192090395"
      ],
      "text/plain": [
       "[1] 0.8361582"
      ]
     },
     "metadata": {},
     "output_type": "display_data"
    }
   ],
   "source": [
    "accuracy_Test <- sum(diag(table_mat)) / sum(table_mat)\n",
    "\n",
    "accuracy_Test"
   ]
  },
  {
   "cell_type": "markdown",
   "metadata": {},
   "source": [
    "## lets also try xgboost for r and seen if there is any changes"
   ]
  },
  {
   "cell_type": "code",
   "execution_count": 132,
   "metadata": {
    "vscode": {
     "languageId": "r"
    }
   },
   "outputs": [],
   "source": [
    "#spliting the data into test and trining variables \n",
    "X_train <- as.matrix(data.frame(data_train %>% select(-c(Survived))))\n",
    "y_train  <- as.matrix(data.frame( data_train$Survived))\n",
    "X_test <- as.matrix(data.frame(data_test %>% select(-c(Survived))))\n",
    "y_test  <- as.matrix(data.frame( data_test$Survived))\n"
   ]
  },
  {
   "cell_type": "code",
   "execution_count": 133,
   "metadata": {
    "vscode": {
     "languageId": "r"
    }
   },
   "outputs": [],
   "source": [
    "#preparing data for ggboost model\n",
    "library(xgboost)\n",
    "dtrain <- xgb.DMatrix(data = X_train, label= y_train)\n",
    "dtest <- xgb.DMatrix(data = X_test, label= y_test)"
   ]
  },
  {
   "cell_type": "code",
   "execution_count": 134,
   "metadata": {
    "vscode": {
     "languageId": "r"
    }
   },
   "outputs": [
    {
     "name": "stdout",
     "output_type": "stream",
     "text": [
      "[1]\ttrain-logloss:0.556275 \n",
      "[2]\ttrain-logloss:0.478511 \n",
      "[3]\ttrain-logloss:0.428645 \n",
      "[4]\ttrain-logloss:0.395240 \n",
      "[5]\ttrain-logloss:0.371406 \n",
      "[6]\ttrain-logloss:0.351596 \n",
      "[7]\ttrain-logloss:0.333407 \n",
      "[8]\ttrain-logloss:0.321117 \n",
      "[9]\ttrain-logloss:0.309018 \n",
      "[10]\ttrain-logloss:0.301413 \n"
     ]
    }
   ],
   "source": [
    "xgb_model <- xgboost(data = dtrain, # the data   \n",
    "                 nround = 10, # max number of boosting iterations\n",
    "                 objective = \"binary:logistic\"  #type of the model to use by default it is regresion\n",
    "                 )"
   ]
  },
  {
   "cell_type": "code",
   "execution_count": 135,
   "metadata": {
    "vscode": {
     "languageId": "r"
    }
   },
   "outputs": [
    {
     "name": "stdout",
     "output_type": "stream",
     "text": [
      "[1] \"test-error= 0.15819209039548\"\n"
     ]
    }
   ],
   "source": [
    "#triying to make predictions\n",
    "pred <- predict(xgb_model, dtest)\n",
    "\n",
    "# get & print the classification error\n",
    "err <- mean(as.numeric(pred > 0.5) != y_test)\n",
    "print(paste(\"test-error=\", err))"
   ]
  },
  {
   "cell_type": "code",
   "execution_count": 160,
   "metadata": {
    "vscode": {
     "languageId": "r"
    }
   },
   "outputs": [
    {
     "name": "stdout",
     "output_type": "stream",
     "text": [
      "[1]\ttrain-logloss:0.575667 \n",
      "Will train until train_logloss hasn't improved in 3 rounds.\n",
      "\n",
      "[2]\ttrain-logloss:0.505553 \n",
      "[3]\ttrain-logloss:0.462228 \n",
      "[4]\ttrain-logloss:0.433358 \n",
      "[5]\ttrain-logloss:0.412177 \n",
      "[6]\ttrain-logloss:0.398373 \n",
      "[7]\ttrain-logloss:0.387056 \n",
      "[8]\ttrain-logloss:0.379165 \n",
      "[9]\ttrain-logloss:0.369698 \n",
      "[10]\ttrain-logloss:0.363723 \n",
      "[11]\ttrain-logloss:0.356323 \n",
      "[12]\ttrain-logloss:0.349833 \n",
      "[13]\ttrain-logloss:0.342876 \n",
      "[14]\ttrain-logloss:0.339067 \n",
      "[15]\ttrain-logloss:0.332086 \n",
      "[16]\ttrain-logloss:0.330097 \n",
      "[17]\ttrain-logloss:0.325811 \n",
      "[18]\ttrain-logloss:0.319845 \n",
      "[19]\ttrain-logloss:0.316733 \n",
      "[20]\ttrain-logloss:0.314907 \n",
      "[21]\ttrain-logloss:0.311967 \n",
      "[22]\ttrain-logloss:0.309352 \n",
      "[23]\ttrain-logloss:0.306632 \n",
      "[24]\ttrain-logloss:0.302579 \n",
      "[25]\ttrain-logloss:0.301269 \n",
      "[26]\ttrain-logloss:0.299122 \n",
      "[27]\ttrain-logloss:0.295564 \n",
      "[28]\ttrain-logloss:0.292799 \n",
      "[29]\ttrain-logloss:0.287665 \n",
      "[30]\ttrain-logloss:0.284244 \n",
      "[31]\ttrain-logloss:0.282240 \n",
      "[32]\ttrain-logloss:0.278932 \n",
      "[33]\ttrain-logloss:0.277613 \n",
      "[34]\ttrain-logloss:0.273801 \n",
      "[35]\ttrain-logloss:0.270201 \n",
      "[36]\ttrain-logloss:0.265433 \n",
      "[37]\ttrain-logloss:0.261969 \n",
      "[38]\ttrain-logloss:0.258806 \n",
      "[39]\ttrain-logloss:0.255376 \n",
      "[40]\ttrain-logloss:0.253124 \n",
      "[41]\ttrain-logloss:0.249704 \n",
      "[42]\ttrain-logloss:0.245010 \n",
      "[43]\ttrain-logloss:0.244034 \n",
      "[44]\ttrain-logloss:0.243230 \n",
      "[45]\ttrain-logloss:0.241155 \n",
      "[46]\ttrain-logloss:0.239848 \n",
      "[47]\ttrain-logloss:0.237368 \n",
      "[48]\ttrain-logloss:0.233897 \n",
      "[49]\ttrain-logloss:0.231814 \n",
      "[50]\ttrain-logloss:0.231334 \n",
      "[51]\ttrain-logloss:0.229569 \n",
      "[52]\ttrain-logloss:0.226023 \n",
      "[53]\ttrain-logloss:0.224356 \n",
      "[54]\ttrain-logloss:0.223634 \n",
      "[55]\ttrain-logloss:0.223323 \n",
      "[56]\ttrain-logloss:0.221364 \n",
      "[57]\ttrain-logloss:0.217989 \n",
      "[58]\ttrain-logloss:0.215214 \n",
      "[59]\ttrain-logloss:0.213170 \n",
      "[60]\ttrain-logloss:0.212101 \n",
      "[61]\ttrain-logloss:0.210617 \n",
      "[62]\ttrain-logloss:0.208917 \n",
      "[63]\ttrain-logloss:0.207882 \n",
      "[64]\ttrain-logloss:0.207435 \n",
      "[65]\ttrain-logloss:0.206921 \n",
      "[66]\ttrain-logloss:0.204203 \n",
      "[67]\ttrain-logloss:0.202480 \n",
      "[68]\ttrain-logloss:0.200545 \n",
      "[69]\ttrain-logloss:0.199589 \n",
      "[70]\ttrain-logloss:0.197710 \n",
      "[71]\ttrain-logloss:0.196457 \n",
      "[72]\ttrain-logloss:0.195255 \n",
      "[73]\ttrain-logloss:0.193892 \n",
      "[74]\ttrain-logloss:0.193721 \n",
      "[75]\ttrain-logloss:0.192039 \n",
      "[76]\ttrain-logloss:0.191128 \n",
      "[77]\ttrain-logloss:0.190245 \n",
      "[78]\ttrain-logloss:0.189389 \n",
      "[79]\ttrain-logloss:0.188352 \n",
      "[80]\ttrain-logloss:0.187338 \n",
      "[81]\ttrain-logloss:0.186719 \n",
      "[82]\ttrain-logloss:0.186474 \n",
      "[83]\ttrain-logloss:0.184091 \n",
      "[84]\ttrain-logloss:0.183612 \n",
      "[85]\ttrain-logloss:0.183167 \n",
      "[86]\ttrain-logloss:0.182078 \n",
      "[87]\ttrain-logloss:0.180957 \n",
      "[88]\ttrain-logloss:0.179873 \n",
      "[89]\ttrain-logloss:0.178683 \n",
      "[90]\ttrain-logloss:0.178424 \n",
      "[91]\ttrain-logloss:0.176705 \n",
      "[92]\ttrain-logloss:0.175229 \n",
      "[93]\ttrain-logloss:0.174423 \n",
      "[94]\ttrain-logloss:0.173252 \n",
      "[95]\ttrain-logloss:0.172371 \n",
      "[96]\ttrain-logloss:0.171383 \n",
      "[97]\ttrain-logloss:0.171213 \n",
      "[98]\ttrain-logloss:0.170477 \n",
      "[99]\ttrain-logloss:0.169874 \n",
      "[100]\ttrain-logloss:0.168718 \n",
      "[1] \"test-error= 0.180790960451977\"\n"
     ]
    }
   ],
   "source": [
    "#trying to tune the parameters so as to obtain a better model\n",
    "# get the number of negative & positive cases in our data\n",
    "negative_cases <- sum(y_train == 0)\n",
    "postive_cases <- sum(y_train == 1)\n",
    "# train a model using our training data\n",
    "model_tuned <- xgboost(data = dtrain, # the data           \n",
    "                 max.depth = 4, # the maximum depth of each decision tree\n",
    "                 nround = 100, # number of boosting rounds\n",
    "                 early_stopping_rounds = 3, # if we dont see an improvement in this many rounds, stop\n",
    "                 objective = \"binary:logistic\", # the objective function\n",
    "                 scale_pos_weight = negative_cases/postive_cases, # control for imbalanced classes\n",
    "                 gamma = 0.1) # add a regularization term\n",
    "\n",
    "# generate predictions for our held-out testing data\n",
    "pred <- predict(model_tuned, dtest)\n",
    "\n",
    "# get & print the classification error\n",
    "err <- mean(as.numeric(pred > 0.5) != y_test)\n",
    "print(paste(\"test-error=\", err))"
   ]
  },
  {
   "cell_type": "code",
   "execution_count": 155,
   "metadata": {
    "vscode": {
     "languageId": "r"
    }
   },
   "outputs": [
    {
     "data": {
      "image/png": "[encoded data removed]",
      "text/plain": [
       "plot without title"
      ]
     },
     "metadata": {
      "image/png": {
       "height": 420,
       "width": 420
      }
     },
     "output_type": "display_data"
    }
   ],
   "source": [
    "importance_matrix <- xgb.importance( model = model_tuned)\n",
    "\n",
    "# and plot it!\n",
    "xgb.plot.importance(importance_matrix)"
   ]
  },
  {
   "cell_type": "code",
   "execution_count": 156,
   "metadata": {
    "vscode": {
     "languageId": "r"
    }
   },
   "outputs": [
    {
     "data": {
      "text/plain": [
       "      prediction\n",
       "y_test  0  1\n",
       "     0 98 13\n",
       "     1 17 49"
      ]
     },
     "metadata": {},
     "output_type": "display_data"
    }
   ],
   "source": [
    "prediction <- as.numeric(pred > 0.5)\n",
    "cof_mat = table(y_test , prediction)\n",
    "cof_mat"
   ]
  },
  {
   "cell_type": "code",
   "execution_count": 157,
   "metadata": {
    "vscode": {
     "languageId": "r"
    }
   },
   "outputs": [
    {
     "data": {
      "text/html": [
       "0.830508474576271"
      ],
      "text/latex": [
       "0.830508474576271"
      ],
      "text/markdown": [
       "0.830508474576271"
      ],
      "text/plain": [
       "[1] 0.8305085"
      ]
     },
     "metadata": {},
     "output_type": "display_data"
    }
   ],
   "source": [
    "xgb_accuracy <- sum(diag(cof_mat))/sum(cof_mat)\n",
    "xgb_accuracy"
   ]
  }
 ],
 "metadata": {
  "kernelspec": {
   "display_name": "R",
   "language": "R",
   "name": "ir"
  },
  "language_info": {
   "codemirror_mode": "r",
   "file_extension": ".r",
   "mimetype": "text/x-r-source",
   "name": "R",
   "pygments_lexer": "r",
   "version": "4.2.2"
  },
  "orig_nbformat": 4,
  "vscode": {
   "interpreter": {
    "hash": "c261aea317cc0286b3b3261fbba9abdec21eaa57589985bb7a274bf54d6cc0a7"
   }
  }
 },
 "nbformat": 4,
 "nbformat_minor": 2
}
